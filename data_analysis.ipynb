{
 "cells": [
  {
   "cell_type": "markdown",
   "metadata": {},
   "source": [
    "# Import modules."
   ]
  },
  {
   "cell_type": "code",
   "execution_count": 7,
   "metadata": {
    "ExecuteTime": {
     "end_time": "2023-10-27T15:14:34.278464Z",
     "start_time": "2023-10-27T15:14:31.720667Z"
    }
   },
   "outputs": [
    {
     "ename": "AttributeError",
     "evalue": "module 'matplotlib' has no attribute 'get_data_path'",
     "output_type": "error",
     "traceback": [
      "\u001b[0;31m---------------------------------------------------------------------------\u001b[0m",
      "\u001b[0;31mAttributeError\u001b[0m                            Traceback (most recent call last)",
      "Input \u001b[0;32mIn [7]\u001b[0m, in \u001b[0;36m<cell line: 8>\u001b[0;34m()\u001b[0m\n\u001b[1;32m      6\u001b[0m \u001b[38;5;28;01mimport\u001b[39;00m \u001b[38;5;21;01mos\u001b[39;00m\n\u001b[1;32m      7\u001b[0m \u001b[38;5;28;01mimport\u001b[39;00m \u001b[38;5;21;01mnumpy\u001b[39;00m \u001b[38;5;28;01mas\u001b[39;00m \u001b[38;5;21;01mnp\u001b[39;00m\n\u001b[0;32m----> 8\u001b[0m \u001b[38;5;28;01mimport\u001b[39;00m \u001b[38;5;21;01mmatplotlib\u001b[39;00m\u001b[38;5;21;01m.\u001b[39;00m\u001b[38;5;21;01mpyplot\u001b[39;00m \u001b[38;5;28;01mas\u001b[39;00m \u001b[38;5;21;01mplt\u001b[39;00m\n\u001b[1;32m      9\u001b[0m \u001b[38;5;28;01mimport\u001b[39;00m \u001b[38;5;21;01mpandas\u001b[39;00m \u001b[38;5;28;01mas\u001b[39;00m \u001b[38;5;21;01mpd\u001b[39;00m \n\u001b[1;32m     10\u001b[0m \u001b[38;5;28;01mimport\u001b[39;00m \u001b[38;5;21;01mholoviews\u001b[39;00m \u001b[38;5;28;01mas\u001b[39;00m \u001b[38;5;21;01mhv\u001b[39;00m\n",
      "File \u001b[0;32m~/.conda/envs/minian/lib/python3.8/site-packages/matplotlib/pyplot.py:32\u001b[0m, in \u001b[0;36m<module>\u001b[0;34m\u001b[0m\n\u001b[1;32m     30\u001b[0m \u001b[38;5;28;01mfrom\u001b[39;00m \u001b[38;5;21;01mcycler\u001b[39;00m \u001b[38;5;28;01mimport\u001b[39;00m cycler\n\u001b[1;32m     31\u001b[0m \u001b[38;5;28;01mimport\u001b[39;00m \u001b[38;5;21;01mmatplotlib\u001b[39;00m\n\u001b[0;32m---> 32\u001b[0m \u001b[38;5;28;01mimport\u001b[39;00m \u001b[38;5;21;01mmatplotlib\u001b[39;00m\u001b[38;5;21;01m.\u001b[39;00m\u001b[38;5;21;01mcolorbar\u001b[39;00m\n\u001b[1;32m     33\u001b[0m \u001b[38;5;28;01mimport\u001b[39;00m \u001b[38;5;21;01mmatplotlib\u001b[39;00m\u001b[38;5;21;01m.\u001b[39;00m\u001b[38;5;21;01mimage\u001b[39;00m\n\u001b[1;32m     34\u001b[0m \u001b[38;5;28;01mfrom\u001b[39;00m \u001b[38;5;21;01mmatplotlib\u001b[39;00m \u001b[38;5;28;01mimport\u001b[39;00m rcsetup, style\n",
      "File \u001b[0;32m~/.conda/envs/minian/lib/python3.8/site-packages/matplotlib/colorbar.py:31\u001b[0m, in \u001b[0;36m<module>\u001b[0;34m\u001b[0m\n\u001b[1;32m     29\u001b[0m \u001b[38;5;28;01mimport\u001b[39;00m \u001b[38;5;21;01mmatplotlib\u001b[39;00m\u001b[38;5;21;01m.\u001b[39;00m\u001b[38;5;21;01mcollections\u001b[39;00m \u001b[38;5;28;01mas\u001b[39;00m \u001b[38;5;21;01mcollections\u001b[39;00m\n\u001b[1;32m     30\u001b[0m \u001b[38;5;28;01mimport\u001b[39;00m \u001b[38;5;21;01mmatplotlib\u001b[39;00m\u001b[38;5;21;01m.\u001b[39;00m\u001b[38;5;21;01mcolors\u001b[39;00m \u001b[38;5;28;01mas\u001b[39;00m \u001b[38;5;21;01mcolors\u001b[39;00m\n\u001b[0;32m---> 31\u001b[0m \u001b[38;5;28;01mimport\u001b[39;00m \u001b[38;5;21;01mmatplotlib\u001b[39;00m\u001b[38;5;21;01m.\u001b[39;00m\u001b[38;5;21;01mcontour\u001b[39;00m \u001b[38;5;28;01mas\u001b[39;00m \u001b[38;5;21;01mcontour\u001b[39;00m\n\u001b[1;32m     32\u001b[0m \u001b[38;5;28;01mimport\u001b[39;00m \u001b[38;5;21;01mmatplotlib\u001b[39;00m\u001b[38;5;21;01m.\u001b[39;00m\u001b[38;5;21;01mcm\u001b[39;00m \u001b[38;5;28;01mas\u001b[39;00m \u001b[38;5;21;01mcm\u001b[39;00m\n\u001b[1;32m     33\u001b[0m \u001b[38;5;28;01mimport\u001b[39;00m \u001b[38;5;21;01mmatplotlib\u001b[39;00m\u001b[38;5;21;01m.\u001b[39;00m\u001b[38;5;21;01mgridspec\u001b[39;00m \u001b[38;5;28;01mas\u001b[39;00m \u001b[38;5;21;01mgridspec\u001b[39;00m\n",
      "File \u001b[0;32m~/.conda/envs/minian/lib/python3.8/site-packages/matplotlib/contour.py:17\u001b[0m, in \u001b[0;36m<module>\u001b[0;34m\u001b[0m\n\u001b[1;32m     15\u001b[0m \u001b[38;5;28;01mimport\u001b[39;00m \u001b[38;5;21;01mmatplotlib\u001b[39;00m\u001b[38;5;21;01m.\u001b[39;00m\u001b[38;5;21;01mcollections\u001b[39;00m \u001b[38;5;28;01mas\u001b[39;00m \u001b[38;5;21;01mmcoll\u001b[39;00m\n\u001b[1;32m     16\u001b[0m \u001b[38;5;28;01mimport\u001b[39;00m \u001b[38;5;21;01mmatplotlib\u001b[39;00m\u001b[38;5;21;01m.\u001b[39;00m\u001b[38;5;21;01mfont_manager\u001b[39;00m \u001b[38;5;28;01mas\u001b[39;00m \u001b[38;5;21;01mfont_manager\u001b[39;00m\n\u001b[0;32m---> 17\u001b[0m \u001b[38;5;28;01mimport\u001b[39;00m \u001b[38;5;21;01mmatplotlib\u001b[39;00m\u001b[38;5;21;01m.\u001b[39;00m\u001b[38;5;21;01mtext\u001b[39;00m \u001b[38;5;28;01mas\u001b[39;00m \u001b[38;5;21;01mtext\u001b[39;00m\n\u001b[1;32m     18\u001b[0m \u001b[38;5;28;01mimport\u001b[39;00m \u001b[38;5;21;01mmatplotlib\u001b[39;00m\u001b[38;5;21;01m.\u001b[39;00m\u001b[38;5;21;01mcbook\u001b[39;00m \u001b[38;5;28;01mas\u001b[39;00m \u001b[38;5;21;01mcbook\u001b[39;00m\n\u001b[1;32m     19\u001b[0m \u001b[38;5;28;01mimport\u001b[39;00m \u001b[38;5;21;01mmatplotlib\u001b[39;00m\u001b[38;5;21;01m.\u001b[39;00m\u001b[38;5;21;01mmathtext\u001b[39;00m \u001b[38;5;28;01mas\u001b[39;00m \u001b[38;5;21;01mmathtext\u001b[39;00m\n",
      "File \u001b[0;32m~/.conda/envs/minian/lib/python3.8/site-packages/matplotlib/text.py:17\u001b[0m, in \u001b[0;36m<module>\u001b[0;34m\u001b[0m\n\u001b[1;32m     15\u001b[0m \u001b[38;5;28;01mfrom\u001b[39;00m \u001b[38;5;21;01m.\u001b[39;00m\u001b[38;5;21;01mlines\u001b[39;00m \u001b[38;5;28;01mimport\u001b[39;00m Line2D\n\u001b[1;32m     16\u001b[0m \u001b[38;5;28;01mfrom\u001b[39;00m \u001b[38;5;21;01m.\u001b[39;00m\u001b[38;5;21;01mpatches\u001b[39;00m \u001b[38;5;28;01mimport\u001b[39;00m FancyArrowPatch, FancyBboxPatch, Rectangle\n\u001b[0;32m---> 17\u001b[0m \u001b[38;5;28;01mfrom\u001b[39;00m \u001b[38;5;21;01m.\u001b[39;00m\u001b[38;5;21;01mtextpath\u001b[39;00m \u001b[38;5;28;01mimport\u001b[39;00m TextPath  \u001b[38;5;66;03m# Unused, but imported by others.\u001b[39;00m\n\u001b[1;32m     18\u001b[0m \u001b[38;5;28;01mfrom\u001b[39;00m \u001b[38;5;21;01m.\u001b[39;00m\u001b[38;5;21;01mtransforms\u001b[39;00m \u001b[38;5;28;01mimport\u001b[39;00m (\n\u001b[1;32m     19\u001b[0m     Affine2D, Bbox, BboxBase, BboxTransformTo, IdentityTransform, Transform)\n\u001b[1;32m     22\u001b[0m _log \u001b[38;5;241m=\u001b[39m logging\u001b[38;5;241m.\u001b[39mgetLogger(\u001b[38;5;18m__name__\u001b[39m)\n",
      "File \u001b[0;32m~/.conda/envs/minian/lib/python3.8/site-packages/matplotlib/textpath.py:11\u001b[0m, in \u001b[0;36m<module>\u001b[0;34m\u001b[0m\n\u001b[1;32m      9\u001b[0m \u001b[38;5;28;01mfrom\u001b[39;00m \u001b[38;5;21;01mmatplotlib\u001b[39;00m\u001b[38;5;21;01m.\u001b[39;00m\u001b[38;5;21;01mfont_manager\u001b[39;00m \u001b[38;5;28;01mimport\u001b[39;00m FontProperties, get_font\n\u001b[1;32m     10\u001b[0m \u001b[38;5;28;01mfrom\u001b[39;00m \u001b[38;5;21;01mmatplotlib\u001b[39;00m\u001b[38;5;21;01m.\u001b[39;00m\u001b[38;5;21;01mft2font\u001b[39;00m \u001b[38;5;28;01mimport\u001b[39;00m LOAD_NO_HINTING, LOAD_TARGET_LIGHT\n\u001b[0;32m---> 11\u001b[0m \u001b[38;5;28;01mfrom\u001b[39;00m \u001b[38;5;21;01mmatplotlib\u001b[39;00m\u001b[38;5;21;01m.\u001b[39;00m\u001b[38;5;21;01mmathtext\u001b[39;00m \u001b[38;5;28;01mimport\u001b[39;00m MathTextParser\n\u001b[1;32m     12\u001b[0m \u001b[38;5;28;01mfrom\u001b[39;00m \u001b[38;5;21;01mmatplotlib\u001b[39;00m\u001b[38;5;21;01m.\u001b[39;00m\u001b[38;5;21;01mpath\u001b[39;00m \u001b[38;5;28;01mimport\u001b[39;00m Path\n\u001b[1;32m     13\u001b[0m \u001b[38;5;28;01mfrom\u001b[39;00m \u001b[38;5;21;01mmatplotlib\u001b[39;00m\u001b[38;5;21;01m.\u001b[39;00m\u001b[38;5;21;01mtransforms\u001b[39;00m \u001b[38;5;28;01mimport\u001b[39;00m Affine2D\n",
      "File \u001b[0;32m~/.conda/envs/minian/lib/python3.8/site-packages/matplotlib/mathtext.py:1059\u001b[0m, in \u001b[0;36m<module>\u001b[0;34m\u001b[0m\n\u001b[1;32m   1052\u001b[0m     \u001b[38;5;124;03m\"\"\"\u001b[39;00m\n\u001b[1;32m   1053\u001b[0m \u001b[38;5;124;03m    A font handling class for the STIX fonts (that uses sans-serif\u001b[39;00m\n\u001b[1;32m   1054\u001b[0m \u001b[38;5;124;03m    characters by default).\u001b[39;00m\n\u001b[1;32m   1055\u001b[0m \u001b[38;5;124;03m    \"\"\"\u001b[39;00m\n\u001b[1;32m   1056\u001b[0m     _sans \u001b[38;5;241m=\u001b[39m \u001b[38;5;28;01mTrue\u001b[39;00m\n\u001b[0;32m-> 1059\u001b[0m \u001b[38;5;28;01mclass\u001b[39;00m \u001b[38;5;21;01mStandardPsFonts\u001b[39;00m(Fonts):\n\u001b[1;32m   1060\u001b[0m     \u001b[38;5;124;03m\"\"\"\u001b[39;00m\n\u001b[1;32m   1061\u001b[0m \u001b[38;5;124;03m    Use the standard postscript fonts for rendering to backend_ps\u001b[39;00m\n\u001b[1;32m   1062\u001b[0m \n\u001b[1;32m   1063\u001b[0m \u001b[38;5;124;03m    Unlike the other font classes, BakomaFont and UnicodeFont, this\u001b[39;00m\n\u001b[1;32m   1064\u001b[0m \u001b[38;5;124;03m    one requires the Ps backend.\u001b[39;00m\n\u001b[1;32m   1065\u001b[0m \u001b[38;5;124;03m    \"\"\"\u001b[39;00m\n\u001b[1;32m   1066\u001b[0m     basepath \u001b[38;5;241m=\u001b[39m \u001b[38;5;28mstr\u001b[39m(cbook\u001b[38;5;241m.\u001b[39m_get_data_path(\u001b[38;5;124m'\u001b[39m\u001b[38;5;124mfonts/afm\u001b[39m\u001b[38;5;124m'\u001b[39m))\n",
      "File \u001b[0;32m~/.conda/envs/minian/lib/python3.8/site-packages/matplotlib/mathtext.py:1066\u001b[0m, in \u001b[0;36mStandardPsFonts\u001b[0;34m()\u001b[0m\n\u001b[1;32m   1059\u001b[0m \u001b[38;5;28;01mclass\u001b[39;00m \u001b[38;5;21;01mStandardPsFonts\u001b[39;00m(Fonts):\n\u001b[1;32m   1060\u001b[0m     \u001b[38;5;124;03m\"\"\"\u001b[39;00m\n\u001b[1;32m   1061\u001b[0m \u001b[38;5;124;03m    Use the standard postscript fonts for rendering to backend_ps\u001b[39;00m\n\u001b[1;32m   1062\u001b[0m \n\u001b[1;32m   1063\u001b[0m \u001b[38;5;124;03m    Unlike the other font classes, BakomaFont and UnicodeFont, this\u001b[39;00m\n\u001b[1;32m   1064\u001b[0m \u001b[38;5;124;03m    one requires the Ps backend.\u001b[39;00m\n\u001b[1;32m   1065\u001b[0m \u001b[38;5;124;03m    \"\"\"\u001b[39;00m\n\u001b[0;32m-> 1066\u001b[0m     basepath \u001b[38;5;241m=\u001b[39m \u001b[38;5;28mstr\u001b[39m(\u001b[43mcbook\u001b[49m\u001b[38;5;241;43m.\u001b[39;49m\u001b[43m_get_data_path\u001b[49m\u001b[43m(\u001b[49m\u001b[38;5;124;43m'\u001b[39;49m\u001b[38;5;124;43mfonts/afm\u001b[39;49m\u001b[38;5;124;43m'\u001b[39;49m\u001b[43m)\u001b[49m)\n\u001b[1;32m   1068\u001b[0m     fontmap \u001b[38;5;241m=\u001b[39m {\n\u001b[1;32m   1069\u001b[0m         \u001b[38;5;124m'\u001b[39m\u001b[38;5;124mcal\u001b[39m\u001b[38;5;124m'\u001b[39m: \u001b[38;5;124m'\u001b[39m\u001b[38;5;124mpzcmi8a\u001b[39m\u001b[38;5;124m'\u001b[39m,  \u001b[38;5;66;03m# Zapf Chancery\u001b[39;00m\n\u001b[1;32m   1070\u001b[0m         \u001b[38;5;124m'\u001b[39m\u001b[38;5;124mrm\u001b[39m\u001b[38;5;124m'\u001b[39m:  \u001b[38;5;124m'\u001b[39m\u001b[38;5;124mpncr8a\u001b[39m\u001b[38;5;124m'\u001b[39m,   \u001b[38;5;66;03m# New Century Schoolbook\u001b[39;00m\n\u001b[0;32m   (...)\u001b[0m\n\u001b[1;32m   1075\u001b[0m         \u001b[38;5;28;01mNone\u001b[39;00m:  \u001b[38;5;124m'\u001b[39m\u001b[38;5;124mpsyr\u001b[39m\u001b[38;5;124m'\u001b[39m,     \u001b[38;5;66;03m# Symbol\u001b[39;00m\n\u001b[1;32m   1076\u001b[0m     }\n\u001b[1;32m   1078\u001b[0m     \u001b[38;5;28;01mdef\u001b[39;00m \u001b[38;5;21m__init__\u001b[39m(\u001b[38;5;28mself\u001b[39m, default_font_prop):\n",
      "File \u001b[0;32m~/.conda/envs/minian/lib/python3.8/site-packages/matplotlib/cbook/__init__.py:461\u001b[0m, in \u001b[0;36m_get_data_path\u001b[0;34m(*args)\u001b[0m\n\u001b[1;32m    455\u001b[0m \u001b[38;5;28;01mdef\u001b[39;00m \u001b[38;5;21m_get_data_path\u001b[39m(\u001b[38;5;241m*\u001b[39margs):\n\u001b[1;32m    456\u001b[0m     \u001b[38;5;124;03m\"\"\"\u001b[39;00m\n\u001b[1;32m    457\u001b[0m \u001b[38;5;124;03m    Return the `Path` to a resource file provided by Matplotlib.\u001b[39;00m\n\u001b[1;32m    458\u001b[0m \n\u001b[1;32m    459\u001b[0m \u001b[38;5;124;03m    ``*args`` specify a path relative to the base data path.\u001b[39;00m\n\u001b[1;32m    460\u001b[0m \u001b[38;5;124;03m    \"\"\"\u001b[39;00m\n\u001b[0;32m--> 461\u001b[0m     \u001b[38;5;28;01mreturn\u001b[39;00m Path(\u001b[43mmatplotlib\u001b[49m\u001b[38;5;241;43m.\u001b[39;49m\u001b[43mget_data_path\u001b[49m(), \u001b[38;5;241m*\u001b[39margs)\n",
      "\u001b[0;31mAttributeError\u001b[0m: module 'matplotlib' has no attribute 'get_data_path'"
     ]
    }
   ],
   "source": [
    "%%capture\n",
    "%load_ext autoreload\n",
    "%autoreload 2\n",
    "\n",
    "\n",
    "import sys\n",
    "import os\n",
    "import numpy as np\n",
    "import matplotlib.pyplot as plt\n",
    "import pandas as pd \n",
    "import holoviews as hv\n",
    "import csv\n",
    "import math\n",
    "\n",
    "from scipy.stats import zscore\n",
    "from dask.distributed import Client, LocalCluster\n",
    "from holoviews.operation.datashader import datashade, regrid\n",
    "from holoviews.util import Dynamic\n",
    "from IPython.core.display import display\n",
    "\n",
    "os.environ[\"OMP_NUM_THREADS\"] = \"1\"\n",
    "os.environ[\"MKL_NUM_THREADS\"] = \"1\"\n",
    "os.environ[\"OPENBLAS_NUM_THREADS\"] = \"1\"\n",
    "minian_path = \".\""
   ]
  },
  {
   "cell_type": "markdown",
   "metadata": {},
   "source": [
    "# Specify data location."
   ]
  },
  {
   "cell_type": "code",
   "execution_count": 5,
   "metadata": {
    "ExecuteTime": {
     "end_time": "2023-10-27T15:13:43.172640Z",
     "start_time": "2023-10-27T15:13:42.374929Z"
    },
    "autoscroll": false,
    "ein.tags": "worksheet-0",
    "slideshow": {
     "slide_type": "-"
    }
   },
   "outputs": [
    {
     "ename": "NameError",
     "evalue": "name 'minian_path' is not defined",
     "output_type": "error",
     "traceback": [
      "\u001b[0;31m---------------------------------------------------------------------------\u001b[0m",
      "\u001b[0;31mNameError\u001b[0m                                 Traceback (most recent call last)",
      "Input \u001b[0;32mIn [5]\u001b[0m, in \u001b[0;36m<cell line: 1>\u001b[0;34m()\u001b[0m\n\u001b[0;32m----> 1\u001b[0m sys\u001b[38;5;241m.\u001b[39mpath\u001b[38;5;241m.\u001b[39minsert(\u001b[38;5;241m0\u001b[39m, \u001b[43mminian_path\u001b[49m)\n\u001b[1;32m      2\u001b[0m \u001b[38;5;28;01mfrom\u001b[39;00m \u001b[38;5;21;01mminian\u001b[39;00m\u001b[38;5;21;01m.\u001b[39;00m\u001b[38;5;21;01mutilities\u001b[39;00m \u001b[38;5;28;01mimport\u001b[39;00m (\n\u001b[1;32m      3\u001b[0m     open_minian,\n\u001b[1;32m      4\u001b[0m     match_information,\n\u001b[1;32m      5\u001b[0m     match_path,\n\u001b[1;32m      6\u001b[0m     TaskAnnotation\n\u001b[1;32m      7\u001b[0m )\n",
      "\u001b[0;31mNameError\u001b[0m: name 'minian_path' is not defined"
     ]
    }
   ],
   "source": [
    "%%capture\n",
    "sys.path.insert(0, minian_path)\n",
    "from minian.utilities import (\n",
    "    open_minian,\n",
    "    match_information,\n",
    "    match_path,\n",
    "    TaskAnnotation\n",
    ")"
   ]
  },
  {
   "cell_type": "code",
   "execution_count": 6,
   "metadata": {
    "ExecuteTime": {
     "end_time": "2023-10-27T15:13:43.455209Z",
     "start_time": "2023-10-27T15:13:43.176722Z"
    },
    "tags": []
   },
   "outputs": [
    {
     "ename": "NameError",
     "evalue": "name 'match_information' is not defined",
     "output_type": "error",
     "traceback": [
      "\u001b[0;31m---------------------------------------------------------------------------\u001b[0m",
      "\u001b[0;31mNameError\u001b[0m                                 Traceback (most recent call last)",
      "Input \u001b[0;32mIn [6]\u001b[0m, in \u001b[0;36m<cell line: 4>\u001b[0;34m()\u001b[0m\n\u001b[1;32m      1\u001b[0m \u001b[38;5;66;03m# Set up Initial Basic Parameters#\u001b[39;00m\n\u001b[1;32m      3\u001b[0m dpath \u001b[38;5;241m=\u001b[39m \u001b[38;5;124m\"\u001b[39m\u001b[38;5;124m/N/project/Cortical_Calcium_Image/Miniscope data/05.2023_Tenth_group/AA058_D1/2023_05_05/11_02_42/Miniscope_2/ALP_session\u001b[39m\u001b[38;5;124m\"\u001b[39m\n\u001b[0;32m----> 4\u001b[0m mouseID, day, session \u001b[38;5;241m=\u001b[39m \u001b[43mmatch_information\u001b[49m(dpath)\n\u001b[1;32m      5\u001b[0m mouse_path, video_path \u001b[38;5;241m=\u001b[39m match_path(dpath)\n\u001b[1;32m      6\u001b[0m timeStamp \u001b[38;5;241m=\u001b[39m os\u001b[38;5;241m.\u001b[39mpath\u001b[38;5;241m.\u001b[39mjoin(video_path,\u001b[38;5;124m\"\u001b[39m\u001b[38;5;124mtimeStamps.csv\u001b[39m\u001b[38;5;124m\"\u001b[39m)\n",
      "\u001b[0;31mNameError\u001b[0m: name 'match_information' is not defined"
     ]
    }
   ],
   "source": [
    "# Set up Initial Basic Parameters#\n",
    "\n",
    "dpath = \"/N/project/Cortical_Calcium_Image/Miniscope data/05.2023_Tenth_group/AA058_D1/2023_05_05/11_02_42/Miniscope_2/ALP_session\"\n",
    "mouseID, day, session = match_information(dpath)\n",
    "mouse_path, video_path = match_path(dpath)\n",
    "timeStamp = os.path.join(video_path,\"timeStamps.csv\")\n",
    "minian_ds_path = os.path.join(dpath, \"minian\")\n",
    "session = 'SALP'\n",
    "output_dpath = \"/N/project/Cortical_Calcium_Image/data_analysis\"\n",
    "# output_path = os.path.join(output_dpath, mouseID,day,session)\n",
    "\n",
    "n_workers = int(os.getenv(\"MINIAN_NWORKERS\", 4))\n",
    "# behavior_data=pd.read_csv(os.path.join(mouse_path, mouseID+\"_\"+day+\"_behavior_ms.csv\"),sep=',')\n",
    "# behavior_data=pd.read_csv(os.path.join(mouse_path, mouseID+\"_\"+day+\"_\"+session+\"_behavior_ms.csv\"),sep=',')\n",
    "\n",
    "if(os.path.exists(output_path) == False):\n",
    "    os.makedirs(output_path)"
   ]
  },
  {
   "cell_type": "code",
   "execution_count": null,
   "metadata": {
    "ExecuteTime": {
     "end_time": "2023-10-27T15:13:43.460405Z",
     "start_time": "2023-10-27T15:13:43.460369Z"
    },
    "autoscroll": false,
    "ein.tags": "worksheet-0",
    "scrolled": true,
    "slideshow": {
     "slide_type": "-"
    }
   },
   "outputs": [],
   "source": [
    "dpath = os.path.abspath(dpath)\n",
    "hv.notebook_extension(\"bokeh\", width=75)"
   ]
  },
  {
   "cell_type": "markdown",
   "metadata": {},
   "source": [
    "# Load data"
   ]
  },
  {
   "cell_type": "code",
   "execution_count": null,
   "metadata": {
    "ExecuteTime": {
     "end_time": "2023-10-27T15:13:43.463520Z",
     "start_time": "2023-10-27T15:13:43.463486Z"
    }
   },
   "outputs": [],
   "source": [
    "cluster = LocalCluster(\n",
    "    n_workers=n_workers,\n",
    "    memory_limit=\"5GB\",\n",
    "    resources={\"MEM\": 1},\n",
    "    threads_per_worker=2,\n",
    "    dashboard_address=\":8787\",\n",
    ")\n",
    "annt_plugin = TaskAnnotation()\n",
    "cluster.scheduler.add_plugin(annt_plugin)\n",
    "client = Client(cluster)"
   ]
  },
  {
   "cell_type": "markdown",
   "metadata": {},
   "source": [
    "## Data structure of Minian outputs\n",
    "Here is the output of Minian. It is an xarray Dataset that contains coordinate labels for different aspects of the data. The way you typically reference the data is the same as you would a Python dictionary. That is, using data['key']. For example, data['A']. See more here: https://xarray.pydata.org/en/stable/generated/xarray.Dataset.html#xarray.Dataset. \n",
    "\n",
    "The most common variables you will be accessing are A, S, and sometimes C. \n",
    "data['A'] contains the spatial footprints of the detected neurons. \n",
    "data['S'] contains the deconvolved spikes.\n",
    "data['C'] contains the modeled calcium traces. \n",
    "\n",
    "Each of these are arranged such that their first dimension is unit_id. So for example, in order to access the first neuron's spatial footprint you would call data['A'].sel(unit_id=0). To access the second, data['A'].sel(unit_id=1), etc."
   ]
  },
  {
   "cell_type": "code",
   "execution_count": null,
   "metadata": {
    "ExecuteTime": {
     "end_time": "2023-10-27T15:13:43.466612Z",
     "start_time": "2023-10-27T15:13:43.466579Z"
    },
    "scrolled": true
   },
   "outputs": [],
   "source": [
    "# print(minian_ds_path)\n",
    "data = open_minian(minian_ds_path)\n",
    "data"
   ]
  },
  {
   "cell_type": "code",
   "execution_count": null,
   "metadata": {
    "ExecuteTime": {
     "end_time": "2023-10-27T15:13:43.469296Z",
     "start_time": "2023-10-27T15:13:43.469262Z"
    },
    "scrolled": true
   },
   "outputs": [],
   "source": [
    "data['C'].sel(unit_id=data['unit_id'])"
   ]
  },
  {
   "cell_type": "markdown",
   "metadata": {},
   "source": [
    "# Store/open data in different formats"
   ]
  },
  {
   "cell_type": "markdown",
   "metadata": {},
   "source": [
    "## Converting the data into other formats is relatively simple. See below for examples."
   ]
  },
  {
   "cell_type": "code",
   "execution_count": null,
   "metadata": {
    "ExecuteTime": {
     "end_time": "2023-10-27T15:13:43.471983Z",
     "start_time": "2023-10-27T15:13:43.471952Z"
    }
   },
   "outputs": [],
   "source": [
    "# Matlab-readable\n",
    "data.to_netcdf(os.path.join(dpath, \"minian_dataset.nc\"))"
   ]
  },
  {
   "cell_type": "code",
   "execution_count": null,
   "metadata": {
    "ExecuteTime": {
     "end_time": "2023-10-20T15:16:20.877126Z",
     "start_time": "2023-10-20T15:16:20.877108Z"
    },
    "scrolled": true
   },
   "outputs": [],
   "source": [
    "# Pandas DataFrame\n",
    "df = data['C'].to_pandas()\n",
    "df"
   ]
  },
  {
   "cell_type": "code",
   "execution_count": null,
   "metadata": {
    "ExecuteTime": {
     "end_time": "2023-10-20T15:16:20.880691Z",
     "start_time": "2023-10-20T15:16:20.880672Z"
    }
   },
   "outputs": [],
   "source": [
    "# Save C value \n",
    "df.to_csv(os.path.join(output_path, 'minian_'+mouseID+\"_\"+day+\"_\"+session+'_C.csv'))"
   ]
  },
  {
   "cell_type": "code",
   "execution_count": null,
   "metadata": {
    "ExecuteTime": {
     "end_time": "2023-10-20T15:16:20.884119Z",
     "start_time": "2023-10-20T15:16:20.884102Z"
    }
   },
   "outputs": [],
   "source": [
    "df_S = data['S'].to_pandas()\n",
    "df_S"
   ]
  },
  {
   "cell_type": "code",
   "execution_count": null,
   "metadata": {
    "ExecuteTime": {
     "end_time": "2023-10-20T15:16:20.889488Z",
     "start_time": "2023-10-20T15:16:20.889455Z"
    }
   },
   "outputs": [],
   "source": [
    "# Save S value\n",
    "df_S.to_csv(os.path.join(output_path, 'minian_'+mouseID+\"_\"+day+\"_\"+session+'_S.csv'))"
   ]
  },
  {
   "cell_type": "markdown",
   "metadata": {},
   "source": [
    "# Plotting data"
   ]
  },
  {
   "cell_type": "markdown",
   "metadata": {},
   "source": [
    "## Calcium traces and spikes\n",
    "Below are difference functions for plotting the modeled traces and spikes for individual neurons and groups of neurons. The features of these plots can be modified by the user."
   ]
  },
  {
   "cell_type": "code",
   "execution_count": null,
   "metadata": {
    "ExecuteTime": {
     "end_time": "2023-10-20T15:16:20.893890Z",
     "start_time": "2023-10-20T15:16:20.893871Z"
    }
   },
   "outputs": [],
   "source": [
    "# # Plot individual traces.\n",
    "# def plot_trace(data, neuron):\n",
    "#     fig, C_ax = plt.subplots(figsize=(12,6))\n",
    "#     S_ax = C_ax.twinx()\n",
    "#     C_ax.plot(data['C'].sel(unit_id=neuron), color='royalblue')\n",
    "#     C_ax.set_ylabel(\"C [modeled activity, A.U.]\", color='royalblue')\n",
    "#     C_ax.set_xlabel('Frame #')\n",
    "#     C_ax.set_title(f'Neuron #{neuron}')\n",
    "\n",
    "#     S_ax.plot(data['S'].sel(unit_id=neuron), color='r', alpha=0.5)\n",
    "#     S_ax.set_ylabel(\"S [modeled activity, A.U.]\", color='r')"
   ]
  },
  {
   "cell_type": "code",
   "execution_count": null,
   "metadata": {
    "ExecuteTime": {
     "end_time": "2023-10-20T15:16:20.897715Z",
     "start_time": "2023-10-20T15:16:20.897686Z"
    },
    "scrolled": false
   },
   "outputs": [],
   "source": [
    "# neuron_number = 0\n",
    "# plot_trace(data, neuron_number)"
   ]
  },
  {
   "cell_type": "code",
   "execution_count": null,
   "metadata": {
    "ExecuteTime": {
     "end_time": "2023-10-20T15:16:20.901863Z",
     "start_time": "2023-10-20T15:16:20.901832Z"
    },
    "scrolled": false
   },
   "outputs": [],
   "source": [
    "#behavior_data from lever press\n",
    "behavior_data"
   ]
  },
  {
   "cell_type": "code",
   "execution_count": null,
   "metadata": {
    "ExecuteTime": {
     "end_time": "2023-10-20T15:16:20.906148Z",
     "start_time": "2023-10-20T15:16:20.906118Z"
    }
   },
   "outputs": [],
   "source": [
    "[1,10,25]"
   ]
  },
  {
   "cell_type": "code",
   "execution_count": null,
   "metadata": {
    "ExecuteTime": {
     "end_time": "2023-10-20T15:16:20.910702Z",
     "start_time": "2023-10-20T15:16:20.910673Z"
    }
   },
   "outputs": [],
   "source": [
    "# Plot traces from multiple neurons\n",
    "def plot_multiple_traces(data, neurons_to_plot, behavior_data, start_frame, session,shift_amount=0.4):\n",
    "    shifts = [shift_amount * i for i in range(len(neurons_to_plot))]\n",
    "    int:id_text_position\n",
    "    if session == \"S1\":\n",
    "        fifteen = behavior_data.loc[behavior_data['Time Stamp (ms)'] <= 900000]\n",
    "        neuron_data=data.sel(frame=slice(0,len(fifteen)-1))\n",
    "        id_text_position = -30\n",
    "    elif session == \"S4\":\n",
    "        fifteen = behavior_data.loc[behavior_data['Time Stamp (ms)'] >= 2700000]\n",
    "        id_text_position = 2700000-30\n",
    "#         print(len(fifteen))\n",
    "#         print(len(data['C'].sel(unit_id=1)))\n",
    "#         neuron_data=data.sel(frame=slice(len(data['C'].sel(unit_id=neurons_to_plot[0]))-len(fifteen),len(data['C'].sel(unit_id=neurons_to_plot[0])-1)))\n",
    "        begin = len(data['C'].sel(unit_id=neurons_to_plot[0]))-len(fifteen) + data['frame'][0].values\n",
    "        end = len(data['C'].sel(unit_id=neurons_to_plot[0])) + data['frame'][0].values - 1\n",
    "#         print(begin)\n",
    "#         print(end)\n",
    "#         print(data['frame'])\n",
    "#         print(data['frame'][0].values)\n",
    "        neuron_data=data.sel(frame=slice(begin,end))\n",
    "#         print(len(data['C'].sel(unit_id=neurons_to_plot[0])))\n",
    "#         print(len(data['C'].sel(unit_id=neurons_to_plot[0]))-1)\n",
    "#         print(len(fifteen))\n",
    "#         print(len(neuron_data['C'].sel(unit_id=neurons_to_plot[0])))\n",
    "    else:\n",
    "        fifteen = behavior_data    \n",
    "    y=shifts[-1]+10\n",
    "    fig, ax = plt.subplots(figsize=(30.4,y))\n",
    "    for shift, neuron in zip(shifts, neurons_to_plot):\n",
    "#         if session == \"S1\":\n",
    "#             trace = data['C'].sel(frame=slice(0,len(fifteen))).sel(unit_id=neuron)\n",
    "#         else:\n",
    "#             trace = data['C'].sel(frame=slice(len(data['C'])-1-len(fifteen),len(data['C']-1))).sel(unit_id=neuron)\n",
    "#         print(trace)\n",
    "        trace = neuron_data['C'].sel(unit_id=neuron)\n",
    "        trace /= np.max(trace)\n",
    "#         ax.autoscale()\n",
    "        ax.text(id_text_position,shift,neuron)\n",
    "        ax.plot(fifteen['Time Stamp (ms)'],trace + shift)\n",
    "#         ax.plot(behavior_data.loc[behavior_data['Frame Number']<len(trace)]['Time Stamp (ms)'],trace + shift)\n",
    "#         start_frame,start_frame+len(trace)\n",
    "        ax.vlines(fifteen.loc[fifteen['RNFS'] > 0]['Time Stamp (ms)'],0,y-8,color=\"green\")\n",
    "        ax.vlines(fifteen.loc[fifteen['IALP'] > 0]['Time Stamp (ms)'],0,y-9,color=\"blue\")\n",
    "        ax.vlines(fifteen.loc[fifteen['ALP'] > 0]['Time Stamp (ms)'],0,y-9,color=\"red\",alpha=0.5)\n",
    "#         if session == \"S1\":\n",
    "#             ax.vlines(behavior_data.loc[(behavior_data['Frame Number']>=0) & (behavior_data['Frame Number']<(0+len(trace))) & (behavior_data['reinforcement']==1)]['Time Stamp (ms)'],0,y-8,color=\"green\")\n",
    "#             ax.vlines(behavior_data.loc[(behavior_data['Frame Number']>=0) & (behavior_data['Frame Number']<(0+len(trace))) & (behavior_data['IALP']==1)]['Time Stamp (ms)'],0,y-9,color=\"blue\")\n",
    "#             ax.vlines(behavior_data.loc[(behavior_data['Frame Number']>=0) & (behavior_data['Frame Number']<(0+len(trace))) & (behavior_data['ALP']==1)]['Time Stamp (ms)'],0,y-9,color=\"red\",alpha=0.5)\n",
    "#         else:\n",
    "# #             ax.vlines(behavior_data.loc[(behavior_data['Frame Number']>=len(data['C'])-1-len(fifteen)) & (behavior_data['Frame Number']<(start_frame+len(trace))) & (behavior_data['reinforcement']==1)]['Time Stamp (ms)'],0,y-8,color=\"green\")\n",
    "# #             ax.vlines(behavior_data.loc[(behavior_data['Frame Number']>=len(data['C'])-1-len(fifteen)) & (behavior_data['Frame Number']<(start_frame+len(trace))) & (behavior_data['IALP']==1)]['Time Stamp (ms)'],0,y-9,color=\"blue\")\n",
    "# #             ax.vlines(behavior_data.loc[(behavior_data['Frame Number']>=len(data['C'])-1-len(fifteen)) & (behavior_data['Frame Number']<(start_frame+len(trace))) & (behavior_data['ALP']==1)]['Time Stamp (ms)'],0,y-9,color=\"red\",alpha=0.5)\n",
    "    ax.set_xlabel('Time Stamp (ms)')\n",
    "    ax.set_ylabel('Neurons')\n",
    "    ax.set_yticks([])\n",
    "#     test=data['C'].sel(frame=slice(0,10)).sel(unit_id=0)\n",
    "#     print(test)\n",
    "    fig.savefig(os.path.join(output_path, mouseID+'_'+day+'_'+session+\"_trace_ms.pdf\"))"
   ]
  },
  {
   "cell_type": "code",
   "execution_count": null,
   "metadata": {
    "ExecuteTime": {
     "end_time": "2023-10-20T15:16:20.915141Z",
     "start_time": "2023-10-20T15:16:20.915113Z"
    },
    "scrolled": true
   },
   "outputs": [],
   "source": [
    "all_neurons=list(np.array(data['unit_id']))\n",
    "# plot_multiple_traces(data, all_neurons,behavior_data,0,session)"
   ]
  },
  {
   "cell_type": "markdown",
   "metadata": {},
   "source": [
    "## Spatial footprints\n",
    "Same for spatial footprints. Functions can be customizable by us or the user."
   ]
  },
  {
   "cell_type": "code",
   "execution_count": null,
   "metadata": {
    "ExecuteTime": {
     "end_time": "2023-10-20T15:16:20.919154Z",
     "start_time": "2023-10-20T15:16:20.919128Z"
    }
   },
   "outputs": [],
   "source": [
    "# Plot spatial footprints\n",
    "def plot_footprints(data, neurons=None):\n",
    "    if type(neurons) is int:\n",
    "        neurons = [neurons]\n",
    "    elif neurons is None:\n",
    "        neurons = data['A']['unit_id']\n",
    "    \n",
    "    fov = np.zeros_like(data['A'].sel(unit_id=0))\n",
    "    for neuron in neurons:\n",
    "        fov += np.asarray(data['A'].sel(unit_id=neuron))\n",
    "        \n",
    "    fig, ax = plt.subplots(figsize=(12,12))\n",
    "    ax.imshow(fov, origin='lower')\n",
    "    ax.axis('image')"
   ]
  },
  {
   "cell_type": "code",
   "execution_count": null,
   "metadata": {
    "ExecuteTime": {
     "end_time": "2023-10-20T15:16:20.923432Z",
     "start_time": "2023-10-20T15:16:20.923391Z"
    }
   },
   "outputs": [],
   "source": [
    "# plot_footprints(data)"
   ]
  },
  {
   "cell_type": "code",
   "execution_count": null,
   "metadata": {
    "ExecuteTime": {
     "end_time": "2023-10-20T15:16:20.928004Z",
     "start_time": "2023-10-20T15:16:20.927979Z"
    }
   },
   "outputs": [],
   "source": [
    "# plot_footprints(data, good_looking_neurons)"
   ]
  },
  {
   "cell_type": "markdown",
   "metadata": {},
   "source": [
    "# Basic analysis\n",
    "Here are some basic descriptive statistics of the detected neurons. "
   ]
  },
  {
   "cell_type": "markdown",
   "metadata": {},
   "source": [
    "## Mean amplitudes\n",
    "It is a good idea to use the S matrix, rather than the C matrix. This is because the S matrix contains deconvolved spikes whereas the C matrix is the modeled calcium trace, which includes the decay portion of the calcium signal. "
   ]
  },
  {
   "cell_type": "code",
   "execution_count": null,
   "metadata": {
    "ExecuteTime": {
     "end_time": "2023-10-20T15:16:20.932489Z",
     "start_time": "2023-10-20T15:16:20.932463Z"
    }
   },
   "outputs": [],
   "source": [
    "# Histogram of mean amplitudes of all detected neurons. \n",
    "def histogram_mean_amplitude(data, nbins=50):\n",
    "    mean_amplitudes = data['S'].mean(dim='frame')\n",
    "    \n",
    "    fig, ax = plt.subplots(figsize=(12,6))\n",
    "    ax.hist(mean_amplitudes, bins=nbins)\n",
    "    ax.set_xlabel('Mean amplitudes [A.U.]')\n",
    "    ax.set_ylabel('# of neurons')\n",
    "    \n",
    "    return np.asarray(mean_amplitudes)"
   ]
  },
  {
   "cell_type": "code",
   "execution_count": null,
   "metadata": {
    "ExecuteTime": {
     "end_time": "2023-10-20T15:16:20.936611Z",
     "start_time": "2023-10-20T15:16:20.936585Z"
    }
   },
   "outputs": [],
   "source": [
    "mean_amplitudes = histogram_mean_amplitude(data, nbins=50)"
   ]
  },
  {
   "cell_type": "code",
   "execution_count": null,
   "metadata": {
    "ExecuteTime": {
     "end_time": "2023-10-20T15:16:20.941816Z",
     "start_time": "2023-10-20T15:16:20.941783Z"
    },
    "scrolled": false
   },
   "outputs": [],
   "source": [
    "mean_amplitudes"
   ]
  },
  {
   "cell_type": "markdown",
   "metadata": {},
   "source": [
    "## Event frequencies\n",
    "It is even more important to use the S matrix here because the C matrix will include time bins where the calcium signal is decaying."
   ]
  },
  {
   "cell_type": "code",
   "execution_count": null,
   "metadata": {
    "ExecuteTime": {
     "end_time": "2023-10-20T15:16:20.946978Z",
     "start_time": "2023-10-20T15:16:20.946947Z"
    }
   },
   "outputs": [],
   "source": [
    "# Histogram of event frequencies of all detected neurons. \n",
    "def histogram_event_freq(data, nbins=50):\n",
    "    event_freq = [np.sum(n > 0)/len(n) for n in np.asarray(data['S'])]\n",
    "    \n",
    "    fig, ax = plt.subplots(figsize=(12,6))\n",
    "    ax.hist(event_freq, bins=nbins)\n",
    "    ax.set_xlabel('Event frequency [proportion of active frames]')\n",
    "    ax.set_ylabel('# of neurons')\n",
    "    \n",
    "    return np.asarray(event_freq)"
   ]
  },
  {
   "cell_type": "code",
   "execution_count": null,
   "metadata": {
    "ExecuteTime": {
     "end_time": "2023-10-20T15:16:20.951454Z",
     "start_time": "2023-10-20T15:16:20.951408Z"
    }
   },
   "outputs": [],
   "source": [
    "event_freq = histogram_event_freq(data)"
   ]
  },
  {
   "cell_type": "code",
   "execution_count": null,
   "metadata": {
    "ExecuteTime": {
     "end_time": "2023-10-20T15:16:20.956212Z",
     "start_time": "2023-10-20T15:16:20.956185Z"
    }
   },
   "outputs": [],
   "source": [
    "event_freq"
   ]
  },
  {
   "cell_type": "markdown",
   "metadata": {},
   "source": [
    "# Digital Dataset(DDS)\n"
   ]
  },
  {
   "cell_type": "markdown",
   "metadata": {},
   "source": [
    "## AUC of S per minute"
   ]
  },
  {
   "cell_type": "markdown",
   "metadata": {},
   "source": [
    "### merge file"
   ]
  },
  {
   "cell_type": "code",
   "execution_count": null,
   "metadata": {
    "ExecuteTime": {
     "end_time": "2023-10-20T15:16:20.960862Z",
     "start_time": "2023-10-20T15:16:20.960834Z"
    },
    "scrolled": false
   },
   "outputs": [],
   "source": [
    "S_df=data['S'].to_pandas()\n",
    "S_df=S_df.transpose()\n",
    "S_df"
   ]
  },
  {
   "cell_type": "code",
   "execution_count": null,
   "metadata": {
    "ExecuteTime": {
     "end_time": "2023-10-20T15:16:20.965409Z",
     "start_time": "2023-10-20T15:16:20.965382Z"
    }
   },
   "outputs": [],
   "source": [
    "if session==\"S1\":\n",
    "    new_pd=pd.merge(S_df,behavior_data,left_index=True,right_on='Frame Number',how='left')\n",
    "else:\n",
    "    temp_pd=behavior_data.tail(len(S_df))\n",
    "    S_df.reset_index(drop=True, inplace = True)\n",
    "    temp_pd.reset_index(drop=True, inplace=True)\n",
    "    new_pd=pd.concat([S_df,temp_pd],axis=1)"
   ]
  },
  {
   "cell_type": "code",
   "execution_count": null,
   "metadata": {
    "ExecuteTime": {
     "end_time": "2023-10-20T15:16:20.969818Z",
     "start_time": "2023-10-20T15:16:20.969792Z"
    },
    "scrolled": true
   },
   "outputs": [],
   "source": [
    "new_pd"
   ]
  },
  {
   "cell_type": "markdown",
   "metadata": {},
   "source": [
    "###  Check frame interval"
   ]
  },
  {
   "cell_type": "code",
   "execution_count": null,
   "metadata": {
    "ExecuteTime": {
     "end_time": "2023-10-20T15:16:20.974839Z",
     "start_time": "2023-10-20T15:16:20.974808Z"
    },
    "scrolled": false
   },
   "outputs": [],
   "source": [
    "new_pd.loc[new_pd['Time Stamp (ms)'].diff()>100]"
   ]
  },
  {
   "cell_type": "markdown",
   "metadata": {},
   "source": [
    "## AUC of S per min"
   ]
  },
  {
   "cell_type": "code",
   "execution_count": null,
   "metadata": {
    "ExecuteTime": {
     "end_time": "2023-10-20T15:16:20.979890Z",
     "start_time": "2023-10-20T15:16:20.979860Z"
    },
    "scrolled": true
   },
   "outputs": [],
   "source": [
    "new_pd['min']=new_pd['Time Stamp (ms)'].map(lambda x: math.floor(x/60000))\n",
    "pd.set_option('display.min_rows',50)\n",
    "# new_pd['min'] = new_pd['min']+2\n",
    "res=new_pd.groupby('min').sum()\n",
    "new_pd"
   ]
  },
  {
   "cell_type": "code",
   "execution_count": null,
   "metadata": {
    "ExecuteTime": {
     "end_time": "2023-10-20T15:16:20.984479Z",
     "start_time": "2023-10-20T15:16:20.984451Z"
    }
   },
   "outputs": [],
   "source": [
    "res.drop(columns=['Frame Number','Time Stamp (ms)','Buffer Index']).to_csv(os.path.join(output_path, mouseID+'_'+day+'_'+session+\"_AUC_of_S_per_minute.csv\"))"
   ]
  },
  {
   "cell_type": "code",
   "execution_count": null,
   "metadata": {
    "ExecuteTime": {
     "end_time": "2023-10-20T15:16:20.989467Z",
     "start_time": "2023-10-20T15:16:20.989437Z"
    }
   },
   "outputs": [],
   "source": [
    "res"
   ]
  },
  {
   "cell_type": "markdown",
   "metadata": {},
   "source": [
    "## Calculate z-score"
   ]
  },
  {
   "cell_type": "code",
   "execution_count": null,
   "metadata": {
    "ExecuteTime": {
     "end_time": "2023-10-20T15:16:20.994044Z",
     "start_time": "2023-10-20T15:16:20.994016Z"
    }
   },
   "outputs": [],
   "source": [
    "# Contains left and right ends\n",
    "def calculate_window(analyzed_zscore_df, action , start, end):\n",
    "    output_df = analyzed_zscore_df\n",
    "    for i in range(start,end + 1):\n",
    "        # only line 2 so the mean is the same to line 2.\n",
    "        series_positive = analyzed_zscore_df[analyzed_zscore_df[action].shift(i) > 0].mean()\n",
    "        series_positive.name = action+\"_positive_W\"+str(i)\n",
    "        series_negative = analyzed_zscore_df[analyzed_zscore_df[action].shift(i) == 0].mean()\n",
    "        series_negative.name = action+\"_negative_W\"+str(i)\n",
    "        output_df = output_df.append(series_positive)\n",
    "        output_df = output_df.append(series_negative)\n",
    "    return output_df"
   ]
  },
  {
   "cell_type": "code",
   "execution_count": null,
   "metadata": {
    "ExecuteTime": {
     "end_time": "2023-10-20T15:16:20.998701Z",
     "start_time": "2023-10-20T15:16:20.998674Z"
    }
   },
   "outputs": [],
   "source": [
    "def calculate_zscore (session, input_df):\n",
    "    neuron_ids = input_df.columns.values.tolist()\n",
    "    neuron_ids = list(filter(lambda x:type(x) == int,neuron_ids))\n",
    "    if session == \"S1\":\n",
    "        analyzed_df = input_df.loc[0:14,:]\n",
    "    elif session == \"S4\":\n",
    "        analyzed_df = input_df.loc[45:59,:]\n",
    "    neuron_value = analyzed_df.loc[:,neuron_ids]\n",
    "    behavior_value = analyzed_df.loc[:,[\"RNFS\",\"ALP\",\"IALP\",\"ALP_Timeout\"]]\n",
    "    zscore_df = zscore(neuron_value,axis = 0)\n",
    "    sum_zscore_df = pd.merge(zscore_df,behavior_value,left_index=True,right_index=True)\n",
    "    print(sum_zscore_df)\n",
    "    output_zscore_df = calculate_window(sum_zscore_df, \"ALP\", -3, 3)\n",
    "    output_zscore_df = calculate_window(output_zscore_df, \"IALP\", -3, 3)\n",
    "    output_zscore_df = calculate_window(output_zscore_df, \"RNFS\", -3, 3)\n",
    "    output_zscore_df = calculate_window(output_zscore_df, \"ALP_Timeout\", -3, 3)\n",
    "    return output_zscore_df"
   ]
  },
  {
   "cell_type": "markdown",
   "metadata": {},
   "source": [
    "### AUC zscore"
   ]
  },
  {
   "cell_type": "code",
   "execution_count": null,
   "metadata": {
    "ExecuteTime": {
     "end_time": "2023-10-20T15:16:21.003879Z",
     "start_time": "2023-10-20T15:16:21.003850Z"
    }
   },
   "outputs": [],
   "source": [
    "res"
   ]
  },
  {
   "cell_type": "code",
   "execution_count": null,
   "metadata": {
    "ExecuteTime": {
     "end_time": "2023-10-20T15:16:21.007950Z",
     "start_time": "2023-10-20T15:16:21.007932Z"
    },
    "scrolled": false
   },
   "outputs": [],
   "source": [
    "AUC_zscore = calculate_zscore(session, res)"
   ]
  },
  {
   "cell_type": "code",
   "execution_count": null,
   "metadata": {
    "ExecuteTime": {
     "end_time": "2023-10-20T15:16:21.012285Z",
     "start_time": "2023-10-20T15:16:21.012260Z"
    },
    "scrolled": true
   },
   "outputs": [],
   "source": [
    "AUC_zscore.to_csv(os.path.join(output_path, mouseID+'_'+day+'_'+session+\"_AUC_zscore.csv\"))"
   ]
  },
  {
   "cell_type": "code",
   "execution_count": null,
   "metadata": {
    "ExecuteTime": {
     "end_time": "2023-10-20T15:16:21.016433Z",
     "start_time": "2023-10-20T15:16:21.016396Z"
    },
    "scrolled": true
   },
   "outputs": [],
   "source": [
    "zscore_summary_index_list = list(filter(lambda x: type(x) != int,AUC_zscore.index.tolist()))\n",
    "AUC_zscore_summary = AUC_zscore.loc[zscore_summary_index_list,:]\n",
    "AUC_zscore_summary"
   ]
  },
  {
   "cell_type": "code",
   "execution_count": null,
   "metadata": {
    "ExecuteTime": {
     "end_time": "2023-10-20T15:16:21.020798Z",
     "start_time": "2023-10-20T15:16:21.020774Z"
    }
   },
   "outputs": [],
   "source": [
    "def calculate_mean(Series,ngtv_near=0.1,ngtv_far=0,pstv_near=0.1,pstv_far=0):\n",
    "    series=Series.sort_values()\n",
    "    # total number\n",
    "    total = len(Series)\n",
    "    \n",
    "    # ngtv number\n",
    "    ngtv_series= series[series<0]\n",
    "    ngtv_number = len(ngtv_series)\n",
    "    \n",
    "    # pstv number\n",
    "    pstv_series = series[series>0]\n",
    "    pstv_number = len(pstv_series)\n",
    "    \n",
    "    # number of ngtv be analyzed\n",
    "    ngtv_series_analyzed = ngtv_series[round(len(ngtv_series)*ngtv_far):round(len(ngtv_series)*(1-ngtv_near))]\n",
    "    ngtv_analyzed_number = len(ngtv_series_analyzed)\n",
    "    \n",
    "    # analyzed ngtv neuron ID\n",
    "    ngtv_neurons_list = ngtv_series_analyzed.index.to_list()\n",
    "    ngtv_neurons=','.join([str(i) for i in ngtv_neurons_list])\n",
    "#     print(ngtv_neurons)\n",
    "    \n",
    "    # analyzed ngtv neuron zscore\n",
    "    ngtv_neurons_zscore_list = ngtv_series_analyzed.values.tolist()\n",
    "    ngtv_neurons_zscore = ','.join([str(i) for i in ngtv_neurons_zscore_list])\n",
    "    print(ngtv_neurons_zscore)\n",
    "    print(type(ngtv_neurons_zscore))\n",
    "    \n",
    "    # ngtv mean\n",
    "    ngtv_mean = ngtv_series_analyzed.mean()\n",
    "    \n",
    "    # number of pstv be analyzed\n",
    "    pstv_series_analyzed = pstv_series[round(len(pstv_series)*pstv_near):round(len(pstv_series)*(1-pstv_far))]\n",
    "    pstv_analyzed_number = len(pstv_series_analyzed)\n",
    "    \n",
    "    # analyzed pstv neuron ID\n",
    "    pstv_neurons_list = pstv_series_analyzed.index.to_list()\n",
    "    pstv_neurons=','.join([str(i) for i in pstv_neurons_list])\n",
    "#     print(pstv_neurons)\n",
    "    \n",
    "    # analyzed pstv neuron zscore\n",
    "    pstv_neurons_zscore_list = pstv_series_analyzed.values.tolist()\n",
    "    pstv_neurons_zscore = ','.join([str(i) for i in pstv_neurons_zscore_list])\n",
    "#     print(pstv_neurons_zscore)\n",
    "#     print(type(pstv_neurons_zscore))\n",
    "    \n",
    "    # pstv mean\n",
    "    pstv_mean = pstv_series_analyzed.mean()\n",
    "    \n",
    "    out = pd.Series([total,ngtv_number,ngtv_near,ngtv_far,ngtv_analyzed_number,ngtv_neurons,ngtv_neurons_zscore,ngtv_mean,pstv_number,pstv_near,pstv_far,pstv_analyzed_number,pstv_neurons,pstv_neurons_zscore,pstv_mean],index=[\"total neuron\",\"ngtv neuron\",\"near (%) in the ngtv side\", \"far (%) in the ngtv side\",\"ngtv neuron to be analyzed\",\"analyzed ngtv neuron ID\",\"analyzed ngtv zscore\",\"negative mean\",\"pstv neuron\",\"near (%) in the pstv side\",\"far (%) in the pstv side\",\"pstv neuron to be analyzed\",\"analyzed pstv neuron ID\",\"analyzed pstv zscore\",\"positive mean\"])\n",
    "#     out = pd.concat([Series,out])\n",
    "    return out"
   ]
  },
  {
   "cell_type": "code",
   "execution_count": null,
   "metadata": {
    "ExecuteTime": {
     "end_time": "2023-10-20T15:16:21.024711Z",
     "start_time": "2023-10-20T15:16:21.024687Z"
    },
    "scrolled": true
   },
   "outputs": [],
   "source": [
    "AUC_zscore_calculate_version1 = AUC_zscore_summary.iloc[:,:-3].apply(calculate_mean,ngtv_near=0.1,pstv_near=0.1,axis=1)\n",
    "AUC_zscore_summary_version1 = pd.concat([AUC_zscore_summary,AUC_zscore_calculate_version1],axis=1)\n",
    "AUC_zscore_summary_version1.to_csv(os.path.join(output_path, mouseID+'_'+day+'_'+session+\"_AUC_zscore_summary_version1.csv\"))"
   ]
  },
  {
   "cell_type": "code",
   "execution_count": null,
   "metadata": {
    "ExecuteTime": {
     "end_time": "2023-10-20T15:16:21.029000Z",
     "start_time": "2023-10-20T15:16:21.028976Z"
    }
   },
   "outputs": [],
   "source": [
    "AUC_zscore_calculate_version2 = AUC_zscore_summary.iloc[:,:-3].apply(calculate_mean,ngtv_near=0.2,pstv_near=0.2,axis=1)\n",
    "AUC_zscore_summary_version2 =pd.concat([AUC_zscore_summary, AUC_zscore_calculate_version2],axis=1)\n",
    "AUC_zscore_summary_version2.to_csv(os.path.join(output_path, mouseID+'_'+day+'_'+session+\"_AUC_zscore_summary_version2.csv\"))"
   ]
  },
  {
   "cell_type": "markdown",
   "metadata": {},
   "source": [
    "## AUC of S per Event"
   ]
  },
  {
   "cell_type": "code",
   "execution_count": null,
   "metadata": {
    "ExecuteTime": {
     "end_time": "2023-10-20T15:16:21.032709Z",
     "start_time": "2023-10-20T15:16:21.032686Z"
    }
   },
   "outputs": [],
   "source": [
    "column_name = new_pd.columns.values  #get column label\n",
    "print(column_name)\n",
    "print(column_name[:-8])"
   ]
  },
  {
   "cell_type": "code",
   "execution_count": null,
   "metadata": {
    "ExecuteTime": {
     "end_time": "2023-10-20T15:16:21.036337Z",
     "start_time": "2023-10-20T15:16:21.036315Z"
    },
    "scrolled": true
   },
   "outputs": [],
   "source": [
    "mark = np.zeros(column_name.size-8)\n",
    "flag = np.zeros(column_name.size-8)\n",
    "\n",
    "# for i in column_name[:-7]:\n",
    "#     print(str(i)+\": \"+str(np.argwhere(new_pd.columns.values==i)[0][0]))\n",
    "\n",
    "\n",
    "for i in column_name[:-8]:\n",
    "    new_pd.insert(int(np.argwhere(new_pd.columns.values==i)[0][0]) + 1,str(i)+'_mark',0)   \n",
    "\n",
    "for index,row in new_pd.iterrows():\n",
    "    for i in range(column_name.size-8):\n",
    "        if row[column_name[i]] == 0 and flag[i] != 0:\n",
    "            flag[i]=0\n",
    "        elif row[column_name[i]] == 0 and flag[i] == 0:\n",
    "            continue\n",
    "        elif row[column_name[i]] != 0 and flag[i] != 0:   \n",
    "            new_pd.loc[index,str(column_name[i])+'_mark'] = mark[i]\n",
    "        else:\n",
    "            flag[i]=1\n",
    "            mark[i]=mark[i]+1\n",
    "            new_pd.loc[index,str(column_name[i])+'_mark'] = mark[i]\n",
    "\n"
   ]
  },
  {
   "cell_type": "code",
   "execution_count": null,
   "metadata": {
    "ExecuteTime": {
     "end_time": "2023-10-20T15:16:21.039802Z",
     "start_time": "2023-10-20T15:16:21.039780Z"
    },
    "scrolled": true
   },
   "outputs": [],
   "source": [
    "new_pd"
   ]
  },
  {
   "cell_type": "code",
   "execution_count": null,
   "metadata": {
    "ExecuteTime": {
     "end_time": "2023-10-20T15:16:21.043902Z",
     "start_time": "2023-10-20T15:16:21.043870Z"
    },
    "scrolled": true
   },
   "outputs": [],
   "source": [
    "# print(column_name)\n",
    "print(new_pd.columns.values)"
   ]
  },
  {
   "cell_type": "code",
   "execution_count": null,
   "metadata": {
    "ExecuteTime": {
     "end_time": "2023-10-20T15:16:21.048655Z",
     "start_time": "2023-10-20T15:16:21.048622Z"
    }
   },
   "outputs": [],
   "source": [
    "for i in range(column_name.size-9,-1,-1):\n",
    "    SUM = pd.DataFrame()\n",
    "    SUM[str(column_name[i])+'_sum'] = new_pd[column_name[i]].groupby(new_pd[str(column_name[i])+'_mark']).sum()\n",
    "    temp = pd.merge(new_pd[str(column_name[i])+'_mark'],SUM,how='left',left_on=str(column_name[i])+'_mark',right_index=True)\n",
    "#     print(temp)\n",
    "#     print(type(new_pd[column_name[i]].groupby(new_pd[str(column_name[i])+'_mark']).sum()))\n",
    "    new_pd.insert(int(np.argwhere(new_pd.columns.values==str(column_name[i])+'_mark')[0][0])+1,str(column_name[i])+'_sum',0)\n",
    "    new_pd.update(temp)\n",
    "\n",
    "new_pd.insert(int(np.argwhere(new_pd.columns.values == 'Time Stamp (ms)')[0][0])+1,'Time Interval (ms)',new_pd['Time Stamp (ms)'].diff())\n",
    "new_pd.to_csv(os.path.join(output_path, mouseID+'_'+day+'_'+session+\"_AUC_of_S_per_event.csv\"))"
   ]
  },
  {
   "cell_type": "code",
   "execution_count": null,
   "metadata": {
    "ExecuteTime": {
     "end_time": "2023-10-20T15:16:21.053383Z",
     "start_time": "2023-10-20T15:16:21.053352Z"
    }
   },
   "outputs": [],
   "source": [
    "# print(new_pd[2].groupby(new_pd['2_mark']).count())"
   ]
  },
  {
   "cell_type": "markdown",
   "metadata": {},
   "source": [
    "## Frequency"
   ]
  },
  {
   "cell_type": "code",
   "execution_count": null,
   "metadata": {
    "ExecuteTime": {
     "end_time": "2023-10-20T15:16:21.057912Z",
     "start_time": "2023-10-20T15:16:21.057882Z"
    }
   },
   "outputs": [],
   "source": [
    "behavior_df=new_pd.loc[:,[\"min\",\"RNFS\",\"ALP\",\"IALP\",\"ALP_Timeout\"]]\n",
    "behavior_df2=behavior_df.groupby(behavior_df[\"min\"]).sum()\n",
    "behavior_df2"
   ]
  },
  {
   "cell_type": "code",
   "execution_count": null,
   "metadata": {
    "ExecuteTime": {
     "end_time": "2023-10-20T15:16:21.062332Z",
     "start_time": "2023-10-20T15:16:21.062302Z"
    },
    "scrolled": true
   },
   "outputs": [],
   "source": [
    "df_min=new_pd['min']\n",
    "frequency_df=new_pd.diff()\n",
    "col=[]\n",
    "for i in column_name[:-8]:\n",
    "    col.append(str(i)+'_mark')\n",
    "frequency_df=frequency_df[col]\n",
    "frequency_df[frequency_df<0]=0\n",
    "frequency_df2=frequency_df[frequency_df>0]\n",
    "frequency_df2['min']=df_min\n",
    "frequency_df2 = frequency_df2.groupby('min').count()\n",
    "frequency_df2.columns=frequency_df2.columns.str.rstrip('_mark').astype('int64')\n",
    "frequency_df3=pd.merge(frequency_df2,behavior_df2,left_index=True, right_on=\"min\")\n",
    "frequency_df3.to_csv(os.path.join(output_path, mouseID+'_'+day+'_'+session+\"_Number_of_S_events_per_min.csv\"))\n",
    "frequency_df3.columns.values"
   ]
  },
  {
   "cell_type": "code",
   "execution_count": null,
   "metadata": {
    "ExecuteTime": {
     "end_time": "2023-10-20T15:16:21.066455Z",
     "start_time": "2023-10-20T15:16:21.066425Z"
    }
   },
   "outputs": [],
   "source": [
    "frequency_df3"
   ]
  },
  {
   "cell_type": "code",
   "execution_count": null,
   "metadata": {
    "ExecuteTime": {
     "end_time": "2023-10-20T15:16:21.070678Z",
     "start_time": "2023-10-20T15:16:21.070649Z"
    }
   },
   "outputs": [],
   "source": [
    "Freq_zscore = calculate_zscore(session, frequency_df3)\n",
    "Freq_zscore.to_csv(os.path.join(output_path, mouseID+'_'+day+'_'+session+\"_Freq_zscore.csv\"))"
   ]
  },
  {
   "cell_type": "code",
   "execution_count": null,
   "metadata": {
    "ExecuteTime": {
     "end_time": "2023-10-20T15:16:21.075754Z",
     "start_time": "2023-10-20T15:16:21.075720Z"
    }
   },
   "outputs": [],
   "source": [
    "zscore_summary_index_list = list(filter(lambda x: type(x) != int,Freq_zscore.index.tolist()))\n",
    "Freq_zscore_summary = Freq_zscore.loc[zscore_summary_index_list,:]"
   ]
  },
  {
   "cell_type": "code",
   "execution_count": null,
   "metadata": {
    "ExecuteTime": {
     "end_time": "2023-10-20T15:16:21.080746Z",
     "start_time": "2023-10-20T15:16:21.080715Z"
    }
   },
   "outputs": [],
   "source": [
    "Freq_zscore_calculate_version1 = Freq_zscore_summary.iloc[:,:-4].apply(calculate_mean,ngtv_near=0.1,pstv_near=0.1,axis=1)\n",
    "Freq_zscore_summary_version1 = pd.concat([Freq_zscore_summary, Freq_zscore_calculate_version1],axis=1)\n",
    "Freq_zscore_summary_version1.to_csv(os.path.join(output_path, mouseID+'_'+day+'_'+session+\"_Freq_zscore_summary_version1.csv\"))"
   ]
  },
  {
   "cell_type": "code",
   "execution_count": null,
   "metadata": {
    "ExecuteTime": {
     "end_time": "2023-10-20T15:16:21.085290Z",
     "start_time": "2023-10-20T15:16:21.085261Z"
    }
   },
   "outputs": [],
   "source": [
    "Freq_zscore_calculate_version2 = Freq_zscore_summary.iloc[:,:-4].apply(calculate_mean,ngtv_near=0.2,pstv_near=0.2,axis=1)\n",
    "Freq_zscore_summary_version2 = pd.concat([Freq_zscore_summary,Freq_zscore_calculate_version2],axis=1)\n",
    "Freq_zscore_summary_version2.to_csv(os.path.join(output_path, mouseID+'_'+day+'_'+session+\"_Freq_zscore_summary_version2.csv\"))"
   ]
  },
  {
   "cell_type": "markdown",
   "metadata": {},
   "source": [
    "## Amp"
   ]
  },
  {
   "cell_type": "code",
   "execution_count": null,
   "metadata": {
    "ExecuteTime": {
     "end_time": "2023-10-20T15:16:21.090034Z",
     "start_time": "2023-10-20T15:16:21.090006Z"
    }
   },
   "outputs": [],
   "source": [
    "neuron_ids = res.columns.values.tolist()\n",
    "neuron_ids = list(filter(lambda x:type(x) == int,neuron_ids))"
   ]
  },
  {
   "cell_type": "code",
   "execution_count": null,
   "metadata": {
    "ExecuteTime": {
     "end_time": "2023-10-20T15:16:21.094910Z",
     "start_time": "2023-10-20T15:16:21.094881Z"
    }
   },
   "outputs": [],
   "source": [
    "if session ==\"S1\":\n",
    "    amp_df=res.loc[0:14,neuron_ids]/frequency_df2.loc[0:14,:]\n",
    "elif session == \"S4\":\n",
    "    amp_df=res.loc[45:59,neuron_ids]/frequency_df2.loc[45:59,:]\n",
    "amp_df=amp_df.fillna(0)\n",
    "amp_df=amp_df.replace(np.inf,0)\n",
    "# amp_df\n",
    "if session ==\"S1\":\n",
    "    amp_df=pd.merge(amp_df,res.loc[0:14,[\"RNFS\",\"ALP\",\"IALP\",\"ALP_Timeout\"]],left_index=True,right_index=True)\n",
    "elif session == \"S4\":\n",
    "    amp_df=pd.merge(amp_df,res.loc[45:59,[\"RNFS\",\"ALP\",\"IALP\",\"ALP_Timeout\"]],left_index=True,right_index=True)\n",
    "amp_df.to_csv(os.path.join(output_path, mouseID+'_'+day+'_'+session+\"_average_Amp_per_event.csv\"))"
   ]
  },
  {
   "cell_type": "code",
   "execution_count": null,
   "metadata": {
    "ExecuteTime": {
     "end_time": "2023-10-20T15:16:21.099131Z",
     "start_time": "2023-10-20T15:16:21.099104Z"
    }
   },
   "outputs": [],
   "source": [
    "Amp_zscore = calculate_zscore(session, amp_df)\n",
    "Amp_zscore.to_csv(os.path.join(output_path, mouseID+'_'+day+'_'+session+\"_Amp_zscore.csv\"))"
   ]
  },
  {
   "cell_type": "code",
   "execution_count": null,
   "metadata": {
    "ExecuteTime": {
     "end_time": "2023-10-20T15:16:21.103959Z",
     "start_time": "2023-10-20T15:16:21.103925Z"
    }
   },
   "outputs": [],
   "source": [
    "zscore_summary_index_list = list(filter(lambda x: type(x) != int,Amp_zscore.index.tolist()))\n",
    "Amp_zscore_summary = Amp_zscore.loc[zscore_summary_index_list,:]"
   ]
  },
  {
   "cell_type": "code",
   "execution_count": null,
   "metadata": {
    "ExecuteTime": {
     "end_time": "2023-10-20T15:16:21.108054Z",
     "start_time": "2023-10-20T15:16:21.108038Z"
    }
   },
   "outputs": [],
   "source": [
    "Amp_zscore_calculate_version1 = Amp_zscore_summary.iloc[:,:-4].apply(calculate_mean,ngtv_near=0.1,pstv_near=0.1,axis=1)\n",
    "Amp_zscore_summary_version1 = pd.concat([Amp_zscore_summary, Amp_zscore_calculate_version1],axis=1)\n",
    "Amp_zscore_summary_version1.to_csv(os.path.join(output_path, mouseID+'_'+day+'_'+session+\"_Amp_zscore_summary_version1.csv\"))"
   ]
  },
  {
   "cell_type": "code",
   "execution_count": null,
   "metadata": {
    "ExecuteTime": {
     "end_time": "2023-10-20T15:16:21.111422Z",
     "start_time": "2023-10-20T15:16:21.111400Z"
    }
   },
   "outputs": [],
   "source": [
    "Amp_zscore_calculate_version2 = Amp_zscore_summary.iloc[:,:-4].apply(calculate_mean,ngtv_near=0.2,pstv_near=0.2,axis=1)\n",
    "Amp_zscore_summary_version2 = pd.concat([Amp_zscore_summary,Amp_zscore_calculate_version2],axis=1)\n",
    "Amp_zscore_summary_version2.to_csv(os.path.join(output_path, mouseID+'_'+day+'_'+session+\"_Amp_zscore_summary_version2.csv\"))"
   ]
  },
  {
   "cell_type": "markdown",
   "metadata": {},
   "source": [
    "# Frame check"
   ]
  },
  {
   "cell_type": "code",
   "execution_count": null,
   "metadata": {
    "ExecuteTime": {
     "end_time": "2023-10-20T15:16:21.114636Z",
     "start_time": "2023-10-20T15:16:21.114620Z"
    },
    "scrolled": false
   },
   "outputs": [],
   "source": [
    "client.close()\n",
    "cluster.close()"
   ]
  },
  {
   "cell_type": "code",
   "execution_count": null,
   "metadata": {},
   "outputs": [],
   "source": []
  }
 ],
 "metadata": {
  "kernelspec": {
   "display_name": "Python 3 (ipykernel)",
   "language": "python",
   "name": "python3"
  },
  "language_info": {
   "codemirror_mode": {
    "name": "ipython",
    "version": 3
   },
   "file_extension": ".py",
   "mimetype": "text/x-python",
   "name": "python",
   "nbconvert_exporter": "python",
   "pygments_lexer": "ipython3",
   "version": "3.8.13"
  },
  "name": "pipeline.ipynb",
  "toc": {
   "base_numbering": 1,
   "nav_menu": {},
   "number_sections": true,
   "sideBar": true,
   "skip_h1_title": false,
   "title_cell": "Table of Contents",
   "title_sidebar": "Contents",
   "toc_cell": false,
   "toc_position": {
    "height": "calc(100% - 180px)",
    "left": "10px",
    "top": "150px",
    "width": "396px"
   },
   "toc_section_display": true,
   "toc_window_display": true
  },
  "toc-autonumbering": false,
  "toc-showcode": false,
  "toc-showmarkdowntxt": false,
  "toc-showtags": true,
  "vscode": {
   "interpreter": {
    "hash": "762801451fe76a42c18dac23992a1af646d8c5db732780ee88f9f67c99ccc586"
   }
  }
 },
 "nbformat": 4,
 "nbformat_minor": 4
}
