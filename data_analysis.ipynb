{
 "cells": [
  {
   "cell_type": "markdown",
   "metadata": {},
   "source": [
    "# Import modules."
   ]
  },
  {
   "cell_type": "code",
   "execution_count": null,
   "metadata": {
    "ExecuteTime": {
     "end_time": "2023-03-17T22:06:52.366835Z",
     "start_time": "2023-03-17T22:05:47.980988Z"
    }
   },
   "outputs": [],
   "source": [
    "%%capture\n",
    "%load_ext autoreload\n",
    "%autoreload 2\n",
    "\n",
    "\n",
    "import sys\n",
    "import os\n",
    "import numpy as np\n",
    "import matplotlib.pyplot as plt\n",
    "import pandas as pd \n",
    "import holoviews as hv\n",
    "import csv\n",
    "import math\n",
    "\n",
    "from dask.distributed import Client, LocalCluster\n",
    "from holoviews.operation.datashader import datashade, regrid\n",
    "from holoviews.util import Dynamic\n",
    "from IPython.core.display import display\n",
    "\n",
    "os.environ[\"OMP_NUM_THREADS\"] = \"1\"\n",
    "os.environ[\"MKL_NUM_THREADS\"] = \"1\"\n",
    "os.environ[\"OPENBLAS_NUM_THREADS\"] = \"1\""
   ]
  },
  {
   "cell_type": "markdown",
   "metadata": {},
   "source": [
    "# Specify data location."
   ]
  },
  {
   "cell_type": "code",
   "execution_count": null,
   "metadata": {
    "ExecuteTime": {
     "end_time": "2023-03-18T00:47:56.662017Z",
     "start_time": "2023-03-18T00:47:38.843749Z"
    },
    "tags": []
   },
   "outputs": [],
   "source": [
    "# Set up Initial Basic Parameters#\n",
    "\n",
    "mpath = \"/N/project/Cortical_Calcium_Image/Miniscope data/06.2022_Second_group/AA017_985237_D7\"\n",
    "mouseID = \"A17\"\n",
    "date = \"D7\"\n",
    "session = \"S4\"\n",
    "ipath = os.path.join(mpath, \"2022_06_12/16_38_34/Miniscope_2\")\n",
    "behavior = os.path.join(ipath,\"timeStamps.csv\")\n",
    "dpath = os.path.join(ipath, session)\n",
    "minian_path = \".\"\n",
    "minian_ds_path = os.path.join(dpath, \"minian\")\n",
    "n_workers = int(os.getenv(\"MINIAN_NWORKERS\", 4))\n",
    "behavior_data=pd.read_csv(os.path.join(mpath, mouseID+\"_\"+date+\"_\"+\"behavior_ms.csv\"),sep=',')"
   ]
  },
  {
   "cell_type": "code",
   "execution_count": null,
   "metadata": {
    "ExecuteTime": {
     "end_time": "2023-03-17T22:07:03.374893Z",
     "start_time": "2023-03-17T22:06:54.868705Z"
    },
    "autoscroll": false,
    "ein.tags": "worksheet-0",
    "slideshow": {
     "slide_type": "-"
    }
   },
   "outputs": [],
   "source": [
    "%%capture\n",
    "sys.path.insert(0, minian_path)\n",
    "from minian.utilities import (\n",
    "    open_minian,\n",
    "    TaskAnnotation,\n",
    ")"
   ]
  },
  {
   "cell_type": "code",
   "execution_count": null,
   "metadata": {
    "ExecuteTime": {
     "end_time": "2023-03-17T22:07:18.753705Z",
     "start_time": "2023-03-17T22:07:03.383535Z"
    },
    "autoscroll": false,
    "ein.tags": "worksheet-0",
    "scrolled": true,
    "slideshow": {
     "slide_type": "-"
    }
   },
   "outputs": [],
   "source": [
    "dpath = os.path.abspath(dpath)\n",
    "hv.notebook_extension(\"bokeh\", width=75)"
   ]
  },
  {
   "cell_type": "markdown",
   "metadata": {},
   "source": [
    "# Load data"
   ]
  },
  {
   "cell_type": "code",
   "execution_count": null,
   "metadata": {
    "ExecuteTime": {
     "end_time": "2023-03-17T22:07:47.654754Z",
     "start_time": "2023-03-17T22:07:18.765124Z"
    }
   },
   "outputs": [],
   "source": [
    "cluster = LocalCluster(\n",
    "    n_workers=n_workers,\n",
    "    memory_limit=\"5GB\",\n",
    "    resources={\"MEM\": 1},\n",
    "    threads_per_worker=2,\n",
    "    dashboard_address=\":8787\",\n",
    ")\n",
    "annt_plugin = TaskAnnotation()\n",
    "cluster.scheduler.add_plugin(annt_plugin)\n",
    "client = Client(cluster)"
   ]
  },
  {
   "cell_type": "markdown",
   "metadata": {},
   "source": [
    "## Data structure of Minian outputs\n",
    "Here is the output of Minian. It is an xarray Dataset that contains coordinate labels for different aspects of the data. The way you typically reference the data is the same as you would a Python dictionary. That is, using data['key']. For example, data['A']. See more here: https://xarray.pydata.org/en/stable/generated/xarray.Dataset.html#xarray.Dataset. \n",
    "\n",
    "The most common variables you will be accessing are A, S, and sometimes C. \n",
    "data['A'] contains the spatial footprints of the detected neurons. \n",
    "data['S'] contains the deconvolved spikes.\n",
    "data['C'] contains the modeled calcium traces. \n",
    "\n",
    "Each of these are arranged such that their first dimension is unit_id. So for example, in order to access the first neuron's spatial footprint you would call data['A'].sel(unit_id=0). To access the second, data['A'].sel(unit_id=1), etc."
   ]
  },
  {
   "cell_type": "code",
   "execution_count": null,
   "metadata": {
    "ExecuteTime": {
     "end_time": "2023-03-18T00:48:07.596997Z",
     "start_time": "2023-03-18T00:47:56.667884Z"
    },
    "scrolled": false
   },
   "outputs": [],
   "source": [
    "# print(minian_ds_path)\n",
    "data = open_minian(minian_ds_path)\n",
    "data"
   ]
  },
  {
   "cell_type": "code",
   "execution_count": null,
   "metadata": {
    "ExecuteTime": {
     "end_time": "2023-03-02T22:12:20.414907Z",
     "start_time": "2023-03-02T22:12:17.868371Z"
    },
    "scrolled": true
   },
   "outputs": [],
   "source": [
    "data['C'].sel(unit_id=data['unit_id'])"
   ]
  },
  {
   "cell_type": "markdown",
   "metadata": {},
   "source": [
    "# Store/open data in different formats"
   ]
  },
  {
   "cell_type": "markdown",
   "metadata": {},
   "source": [
    "## Converting the data into other formats is relatively simple. See below for examples."
   ]
  },
  {
   "cell_type": "code",
   "execution_count": null,
   "metadata": {
    "ExecuteTime": {
     "end_time": "2023-03-18T00:48:32.910978Z",
     "start_time": "2023-03-18T00:48:07.604319Z"
    }
   },
   "outputs": [],
   "source": [
    "# Matlab-readable\n",
    "data.to_netcdf(os.path.join(dpath, \"minian_dataset.nc\"))"
   ]
  },
  {
   "cell_type": "code",
   "execution_count": null,
   "metadata": {
    "ExecuteTime": {
     "end_time": "2023-03-18T00:48:35.383958Z",
     "start_time": "2023-03-18T00:48:32.919529Z"
    },
    "scrolled": true
   },
   "outputs": [],
   "source": [
    "# Pandas DataFrame\n",
    "df = data['C'].to_pandas()\n",
    "df"
   ]
  },
  {
   "cell_type": "code",
   "execution_count": null,
   "metadata": {
    "ExecuteTime": {
     "end_time": "2023-03-18T00:48:42.282083Z",
     "start_time": "2023-03-18T00:48:35.390628Z"
    }
   },
   "outputs": [],
   "source": [
    "# Save C value \n",
    "df.to_csv(os.path.join(dpath, 'minian_'+mouseID+date+session+'_C.csv'))"
   ]
  },
  {
   "cell_type": "code",
   "execution_count": null,
   "metadata": {
    "ExecuteTime": {
     "end_time": "2023-03-18T00:48:45.071669Z",
     "start_time": "2023-03-18T00:48:42.290496Z"
    }
   },
   "outputs": [],
   "source": [
    "df_S = data['S'].to_pandas()\n",
    "df_S"
   ]
  },
  {
   "cell_type": "code",
   "execution_count": null,
   "metadata": {
    "ExecuteTime": {
     "end_time": "2023-03-18T00:48:49.915347Z",
     "start_time": "2023-03-18T00:48:45.079728Z"
    }
   },
   "outputs": [],
   "source": [
    "# Save S value\n",
    "df_S.to_csv(os.path.join(dpath, 'minian_'+mouseID+date+session+'_S.csv'))"
   ]
  },
  {
   "cell_type": "markdown",
   "metadata": {},
   "source": [
    "# Plotting data"
   ]
  },
  {
   "cell_type": "markdown",
   "metadata": {},
   "source": [
    "## Calcium traces and spikes\n",
    "Below are difference functions for plotting the modeled traces and spikes for individual neurons and groups of neurons. The features of these plots can be modified by the user."
   ]
  },
  {
   "cell_type": "code",
   "execution_count": null,
   "metadata": {
    "ExecuteTime": {
     "end_time": "2023-03-04T21:11:55.315489Z",
     "start_time": "2023-03-04T21:11:52.798191Z"
    }
   },
   "outputs": [],
   "source": [
    "# # Plot individual traces.\n",
    "# def plot_trace(data, neuron):\n",
    "#     fig, C_ax = plt.subplots(figsize=(12,6))\n",
    "#     S_ax = C_ax.twinx()\n",
    "#     C_ax.plot(data['C'].sel(unit_id=neuron), color='royalblue')\n",
    "#     C_ax.set_ylabel(\"C [modeled activity, A.U.]\", color='royalblue')\n",
    "#     C_ax.set_xlabel('Frame #')\n",
    "#     C_ax.set_title(f'Neuron #{neuron}')\n",
    "\n",
    "#     S_ax.plot(data['S'].sel(unit_id=neuron), color='r', alpha=0.5)\n",
    "#     S_ax.set_ylabel(\"S [modeled activity, A.U.]\", color='r')"
   ]
  },
  {
   "cell_type": "code",
   "execution_count": null,
   "metadata": {
    "ExecuteTime": {
     "end_time": "2023-03-04T21:11:57.660060Z",
     "start_time": "2023-03-04T21:11:55.322276Z"
    },
    "scrolled": false
   },
   "outputs": [],
   "source": [
    "# neuron_number = 0\n",
    "# plot_trace(data, neuron_number)"
   ]
  },
  {
   "cell_type": "code",
   "execution_count": null,
   "metadata": {
    "ExecuteTime": {
     "end_time": "2023-03-04T21:11:59.878379Z",
     "start_time": "2023-03-04T21:11:57.668127Z"
    },
    "scrolled": true
   },
   "outputs": [],
   "source": [
    "behavior_data"
   ]
  },
  {
   "cell_type": "code",
   "execution_count": null,
   "metadata": {
    "ExecuteTime": {
     "end_time": "2023-03-04T21:12:02.145141Z",
     "start_time": "2023-03-04T21:11:59.884640Z"
    }
   },
   "outputs": [],
   "source": [
    "# Plot traces from multiple neurons\n",
    "def plot_multiple_traces(data, neurons_to_plot, behavior_data, start_frame, session,shift_amount=0.4):\n",
    "    shifts = [shift_amount * i for i in range(len(neurons_to_plot))]\n",
    "    if session == \"S1\":\n",
    "        fifteen = behavior_data.loc[behavior_data['Time Stamp (ms)'] <= 900000]\n",
    "        neuron_data=data.sel(frame=slice(0,len(fifteen)-1))\n",
    "    else:\n",
    "        fifteen = behavior_data.loc[behavior_data['Time Stamp (ms)'] >= 2700000]\n",
    "#         print(len(fifteen))\n",
    "#         print(len(data['C'].sel(unit_id=1)))\n",
    "#         neuron_data=data.sel(frame=slice(len(data['C'].sel(unit_id=neurons_to_plot[0]))-len(fifteen),len(data['C'].sel(unit_id=neurons_to_plot[0])-1)))\n",
    "        begin = len(data['C'].sel(unit_id=neurons_to_plot[0]))-len(fifteen) + data['frame'][0].values\n",
    "        end = len(data['C'].sel(unit_id=neurons_to_plot[0])) + data['frame'][0].values - 1\n",
    "#         print(begin)\n",
    "#         print(end)\n",
    "#         print(data['frame'])\n",
    "#         print(data['frame'][0].values)\n",
    "        neuron_data=data.sel(frame=slice(begin,end))\n",
    "#         print(len(data['C'].sel(unit_id=neurons_to_plot[0])))\n",
    "#         print(len(data['C'].sel(unit_id=neurons_to_plot[0]))-1)\n",
    "#         print(len(fifteen))\n",
    "#         print(len(neuron_data['C'].sel(unit_id=neurons_to_plot[0])))\n",
    "    y=shifts[-1]+10\n",
    "    fig, ax = plt.subplots(figsize=(30.4,y))\n",
    "    for shift, neuron in zip(shifts, neurons_to_plot):\n",
    "#         if session == \"S1\":\n",
    "#             trace = data['C'].sel(frame=slice(0,len(fifteen))).sel(unit_id=neuron)\n",
    "#         else:\n",
    "#             trace = data['C'].sel(frame=slice(len(data['C'])-1-len(fifteen),len(data['C']-1))).sel(unit_id=neuron)\n",
    "#         print(trace)\n",
    "        trace = neuron_data['C'].sel(unit_id=neuron)\n",
    "        trace /= np.max(trace)\n",
    "#         ax.autoscale()\n",
    "        ax.text(-1,shift,neuron)\n",
    "        ax.plot(fifteen['Time Stamp (ms)'],trace + shift)\n",
    "#         ax.plot(behavior_data.loc[behavior_data['Frame Number']<len(trace)]['Time Stamp (ms)'],trace + shift)\n",
    "#         start_frame,start_frame+len(trace)\n",
    "        ax.vlines(fifteen.loc[fifteen['reinforcement']==1]['Time Stamp (ms)'],0,y-8,color=\"green\")\n",
    "        ax.vlines(fifteen.loc[fifteen['IALP']==1]['Time Stamp (ms)'],0,y-9,color=\"blue\")\n",
    "        ax.vlines(fifteen.loc[fifteen['ALP']==1]['Time Stamp (ms)'],0,y-9,color=\"red\",alpha=0.5)\n",
    "#         if session == \"S1\":\n",
    "#             ax.vlines(behavior_data.loc[(behavior_data['Frame Number']>=0) & (behavior_data['Frame Number']<(0+len(trace))) & (behavior_data['reinforcement']==1)]['Time Stamp (ms)'],0,y-8,color=\"green\")\n",
    "#             ax.vlines(behavior_data.loc[(behavior_data['Frame Number']>=0) & (behavior_data['Frame Number']<(0+len(trace))) & (behavior_data['IALP']==1)]['Time Stamp (ms)'],0,y-9,color=\"blue\")\n",
    "#             ax.vlines(behavior_data.loc[(behavior_data['Frame Number']>=0) & (behavior_data['Frame Number']<(0+len(trace))) & (behavior_data['ALP']==1)]['Time Stamp (ms)'],0,y-9,color=\"red\",alpha=0.5)\n",
    "#         else:\n",
    "# #             ax.vlines(behavior_data.loc[(behavior_data['Frame Number']>=len(data['C'])-1-len(fifteen)) & (behavior_data['Frame Number']<(start_frame+len(trace))) & (behavior_data['reinforcement']==1)]['Time Stamp (ms)'],0,y-8,color=\"green\")\n",
    "# #             ax.vlines(behavior_data.loc[(behavior_data['Frame Number']>=len(data['C'])-1-len(fifteen)) & (behavior_data['Frame Number']<(start_frame+len(trace))) & (behavior_data['IALP']==1)]['Time Stamp (ms)'],0,y-9,color=\"blue\")\n",
    "# #             ax.vlines(behavior_data.loc[(behavior_data['Frame Number']>=len(data['C'])-1-len(fifteen)) & (behavior_data['Frame Number']<(start_frame+len(trace))) & (behavior_data['ALP']==1)]['Time Stamp (ms)'],0,y-9,color=\"red\",alpha=0.5)\n",
    "    ax.set_xlabel('Time Stamp (ms)')\n",
    "    ax.set_ylabel('Neurons')\n",
    "    ax.set_yticks([])\n",
    "#     test=data['C'].sel(frame=slice(0,10)).sel(unit_id=0)\n",
    "#     print(test)\n",
    "    fig.savefig(os.path.join(dpath, mouseID+'_'+date+'_'+session+\"_trace_ms.pdf\"))"
   ]
  },
  {
   "cell_type": "code",
   "execution_count": null,
   "metadata": {
    "ExecuteTime": {
     "end_time": "2023-03-04T21:12:11.386321Z",
     "start_time": "2023-03-04T21:12:02.155399Z"
    },
    "scrolled": false
   },
   "outputs": [],
   "source": [
    "all_neurons=list(np.array(data['unit_id']))\n",
    "plot_multiple_traces(data, all_neurons,behavior_data,0,session)"
   ]
  },
  {
   "cell_type": "markdown",
   "metadata": {},
   "source": [
    "## Spatial footprints\n",
    "Same for spatial footprints. Functions can be customizable by us or the user."
   ]
  },
  {
   "cell_type": "code",
   "execution_count": null,
   "metadata": {
    "ExecuteTime": {
     "end_time": "2023-03-04T21:12:13.306488Z",
     "start_time": "2023-03-04T21:12:11.390520Z"
    }
   },
   "outputs": [],
   "source": [
    "# Plot spatial footprints\n",
    "def plot_footprints(data, neurons=None):\n",
    "    if type(neurons) is int:\n",
    "        neurons = [neurons]\n",
    "    elif neurons is None:\n",
    "        neurons = data['A']['unit_id']\n",
    "    \n",
    "    fov = np.zeros_like(data['A'].sel(unit_id=0))\n",
    "    for neuron in neurons:\n",
    "        fov += np.asarray(data['A'].sel(unit_id=neuron))\n",
    "        \n",
    "    fig, ax = plt.subplots(figsize=(12,12))\n",
    "    ax.imshow(fov, origin='lower')\n",
    "    ax.axis('image')"
   ]
  },
  {
   "cell_type": "code",
   "execution_count": null,
   "metadata": {
    "ExecuteTime": {
     "end_time": "2023-03-04T21:12:15.573207Z",
     "start_time": "2023-03-04T21:12:13.312712Z"
    }
   },
   "outputs": [],
   "source": [
    "# plot_footprints(data)"
   ]
  },
  {
   "cell_type": "code",
   "execution_count": null,
   "metadata": {
    "ExecuteTime": {
     "end_time": "2023-03-04T21:12:17.725749Z",
     "start_time": "2023-03-04T21:12:15.579823Z"
    }
   },
   "outputs": [],
   "source": [
    "# plot_footprints(data, good_looking_neurons)"
   ]
  },
  {
   "cell_type": "markdown",
   "metadata": {},
   "source": [
    "# Basic analysis\n",
    "Here are some basic descriptive statistics of the detected neurons. "
   ]
  },
  {
   "cell_type": "markdown",
   "metadata": {},
   "source": [
    "## Mean amplitudes\n",
    "It is a good idea to use the S matrix, rather than the C matrix. This is because the S matrix contains deconvolved spikes whereas the C matrix is the modeled calcium trace, which includes the decay portion of the calcium signal. "
   ]
  },
  {
   "cell_type": "code",
   "execution_count": null,
   "metadata": {
    "ExecuteTime": {
     "end_time": "2023-03-04T21:12:19.956360Z",
     "start_time": "2023-03-04T21:12:17.736355Z"
    }
   },
   "outputs": [],
   "source": [
    "# Histogram of mean amplitudes of all detected neurons. \n",
    "def histogram_mean_amplitude(data, nbins=50):\n",
    "    mean_amplitudes = data['S'].mean(dim='frame')\n",
    "    \n",
    "    fig, ax = plt.subplots(figsize=(12,6))\n",
    "    ax.hist(mean_amplitudes, bins=nbins)\n",
    "    ax.set_xlabel('Mean amplitudes [A.U.]')\n",
    "    ax.set_ylabel('# of neurons')\n",
    "    \n",
    "    return np.asarray(mean_amplitudes)"
   ]
  },
  {
   "cell_type": "code",
   "execution_count": null,
   "metadata": {
    "ExecuteTime": {
     "end_time": "2023-03-04T21:12:22.800148Z",
     "start_time": "2023-03-04T21:12:19.965035Z"
    }
   },
   "outputs": [],
   "source": [
    "mean_amplitudes = histogram_mean_amplitude(data, nbins=50)"
   ]
  },
  {
   "cell_type": "code",
   "execution_count": null,
   "metadata": {
    "ExecuteTime": {
     "end_time": "2023-03-04T21:12:25.070414Z",
     "start_time": "2023-03-04T21:12:22.808821Z"
    }
   },
   "outputs": [],
   "source": [
    "mean_amplitudes"
   ]
  },
  {
   "cell_type": "markdown",
   "metadata": {},
   "source": [
    "## Event frequencies\n",
    "It is even more important to use the S matrix here because the C matrix will include time bins where the calcium signal is decaying."
   ]
  },
  {
   "cell_type": "code",
   "execution_count": null,
   "metadata": {
    "ExecuteTime": {
     "end_time": "2023-03-04T21:12:27.194116Z",
     "start_time": "2023-03-04T21:12:25.076219Z"
    }
   },
   "outputs": [],
   "source": [
    "# Histogram of event frequencies of all detected neurons. \n",
    "def histogram_event_freq(data, nbins=50):\n",
    "    event_freq = [np.sum(n > 0)/len(n) for n in np.asarray(data['S'])]\n",
    "    \n",
    "    fig, ax = plt.subplots(figsize=(12,6))\n",
    "    ax.hist(event_freq, bins=nbins)\n",
    "    ax.set_xlabel('Event frequency [proportion of active frames]')\n",
    "    ax.set_ylabel('# of neurons')\n",
    "    \n",
    "    return np.asarray(event_freq)"
   ]
  },
  {
   "cell_type": "code",
   "execution_count": null,
   "metadata": {
    "ExecuteTime": {
     "end_time": "2023-03-04T21:12:29.685329Z",
     "start_time": "2023-03-04T21:12:27.199669Z"
    }
   },
   "outputs": [],
   "source": [
    "event_freq = histogram_event_freq(data)"
   ]
  },
  {
   "cell_type": "code",
   "execution_count": null,
   "metadata": {
    "ExecuteTime": {
     "end_time": "2023-03-04T21:12:31.443245Z",
     "start_time": "2023-03-04T21:12:29.690453Z"
    }
   },
   "outputs": [],
   "source": [
    "event_freq"
   ]
  },
  {
   "cell_type": "markdown",
   "metadata": {},
   "source": [
    "# Digital Dataset(DDS)\n"
   ]
  },
  {
   "cell_type": "markdown",
   "metadata": {},
   "source": [
    "## AUC of S per minute"
   ]
  },
  {
   "cell_type": "markdown",
   "metadata": {},
   "source": [
    "### merge file"
   ]
  },
  {
   "cell_type": "code",
   "execution_count": null,
   "metadata": {
    "ExecuteTime": {
     "end_time": "2023-03-04T21:12:33.597115Z",
     "start_time": "2023-03-04T21:12:31.449533Z"
    },
    "scrolled": false
   },
   "outputs": [],
   "source": [
    "S_df=data['S'].to_pandas()\n",
    "S_df=S_df.transpose()\n",
    "S_df"
   ]
  },
  {
   "cell_type": "code",
   "execution_count": null,
   "metadata": {
    "ExecuteTime": {
     "end_time": "2023-03-04T21:12:35.614669Z",
     "start_time": "2023-03-04T21:12:33.602290Z"
    }
   },
   "outputs": [],
   "source": [
    "# S_df[2] # unit_id: int"
   ]
  },
  {
   "cell_type": "code",
   "execution_count": null,
   "metadata": {
    "ExecuteTime": {
     "end_time": "2023-03-04T21:12:37.779039Z",
     "start_time": "2023-03-04T21:12:35.623235Z"
    }
   },
   "outputs": [],
   "source": [
    "if session==\"S1\":\n",
    "    new_pd=pd.merge(S_df,behavior_data,left_index=True,right_on='Frame Number',how='left')\n",
    "else:\n",
    "    temp_pd=behavior_data.tail(len(S_df))\n",
    "    S_df.reset_index(drop=True, inplace = True)\n",
    "    temp_pd.reset_index(drop=True, inplace=True)\n",
    "    new_pd=pd.concat([S_df,temp_pd],axis=1)"
   ]
  },
  {
   "cell_type": "code",
   "execution_count": null,
   "metadata": {
    "ExecuteTime": {
     "end_time": "2023-03-04T21:12:39.956474Z",
     "start_time": "2023-03-04T21:12:37.784465Z"
    },
    "scrolled": true
   },
   "outputs": [],
   "source": [
    "new_pd"
   ]
  },
  {
   "cell_type": "markdown",
   "metadata": {},
   "source": [
    "###  Check frame interval"
   ]
  },
  {
   "cell_type": "code",
   "execution_count": null,
   "metadata": {
    "ExecuteTime": {
     "end_time": "2023-03-04T21:12:41.605687Z",
     "start_time": "2023-03-04T21:12:39.960599Z"
    }
   },
   "outputs": [],
   "source": [
    "new_pd.loc[new_pd['Time Stamp (ms)'].diff()>100]"
   ]
  },
  {
   "cell_type": "markdown",
   "metadata": {},
   "source": [
    "## AUC of S per min"
   ]
  },
  {
   "cell_type": "code",
   "execution_count": null,
   "metadata": {
    "ExecuteTime": {
     "end_time": "2023-03-04T21:12:43.345608Z",
     "start_time": "2023-03-04T21:12:41.609669Z"
    },
    "scrolled": true
   },
   "outputs": [],
   "source": [
    "new_pd['min']=new_pd['Time Stamp (ms)'].map(lambda x: math.floor(x/60000))\n",
    "pd.set_option('display.min_rows',50)\n",
    "res=new_pd.groupby('min').sum()\n",
    "new_pd"
   ]
  },
  {
   "cell_type": "code",
   "execution_count": null,
   "metadata": {
    "ExecuteTime": {
     "end_time": "2023-03-04T21:12:45.053290Z",
     "start_time": "2023-03-04T21:12:43.355789Z"
    }
   },
   "outputs": [],
   "source": [
    "res.drop(columns=['Frame Number','Time Stamp (ms)','Buffer Index']).to_csv(os.path.join(dpath, mouseID+'_'+date+'_'+session+\"_AUC_of_S_per_minute.csv\"))"
   ]
  },
  {
   "cell_type": "code",
   "execution_count": null,
   "metadata": {
    "ExecuteTime": {
     "end_time": "2023-03-04T21:12:46.667934Z",
     "start_time": "2023-03-04T21:12:45.057267Z"
    }
   },
   "outputs": [],
   "source": [
    "res"
   ]
  },
  {
   "cell_type": "markdown",
   "metadata": {},
   "source": [
    "## AUC of S per Event"
   ]
  },
  {
   "cell_type": "code",
   "execution_count": null,
   "metadata": {
    "ExecuteTime": {
     "end_time": "2023-03-04T21:12:48.606222Z",
     "start_time": "2023-03-04T21:12:46.673713Z"
    }
   },
   "outputs": [],
   "source": [
    "column_name = new_pd.columns.values  #get column label\n",
    "print(column_name)\n",
    "print(column_name[:-7])"
   ]
  },
  {
   "cell_type": "code",
   "execution_count": null,
   "metadata": {
    "ExecuteTime": {
     "end_time": "2023-03-04T21:14:49.766471Z",
     "start_time": "2023-03-04T21:12:48.612106Z"
    },
    "scrolled": true
   },
   "outputs": [],
   "source": [
    "mark = np.zeros(column_name.size-7)\n",
    "flag = np.zeros(column_name.size-7)\n",
    "\n",
    "# for i in column_name[:-7]:\n",
    "#     print(str(i)+\": \"+str(np.argwhere(new_pd.columns.values==i)[0][0]))\n",
    "\n",
    "\n",
    "for i in column_name[:-7]:\n",
    "    new_pd.insert(int(np.argwhere(new_pd.columns.values==i)[0][0]) + 1,str(i)+'_mark',0)   \n",
    "\n",
    "for index,row in new_pd.iterrows():\n",
    "    for i in range(column_name.size-7):\n",
    "        if row[column_name[i]] == 0 and flag[i] != 0:\n",
    "            flag[i]=0\n",
    "        elif row[column_name[i]] == 0 and flag[i] == 0:\n",
    "            continue\n",
    "        elif row[column_name[i]] != 0 and flag[i] != 0:   \n",
    "            new_pd.loc[index,str(column_name[i])+'_mark'] = mark[i]\n",
    "        else:\n",
    "            flag[i]=1\n",
    "            mark[i]=mark[i]+1\n",
    "            new_pd.loc[index,str(column_name[i])+'_mark'] = mark[i]\n",
    "\n"
   ]
  },
  {
   "cell_type": "code",
   "execution_count": null,
   "metadata": {
    "ExecuteTime": {
     "end_time": "2023-03-04T21:14:52.347988Z",
     "start_time": "2023-03-04T21:14:49.771848Z"
    }
   },
   "outputs": [],
   "source": [
    "new_pd"
   ]
  },
  {
   "cell_type": "code",
   "execution_count": null,
   "metadata": {
    "ExecuteTime": {
     "end_time": "2023-03-04T21:14:54.803815Z",
     "start_time": "2023-03-04T21:14:52.353813Z"
    },
    "scrolled": true
   },
   "outputs": [],
   "source": [
    "# # new_pd=new_pd.drop(columns=['124_mark','123_mark','122_mark','121_mark','120_mark','119_mark','118_mark','117_mark','116_mark'])\n",
    "# new_pd.to_csv(os.path.join(dpath, mouseID+'_'+date+'_'+session+\"test.csv\"))\n",
    "# print(column_name)\n",
    "print(new_pd.columns.values)"
   ]
  },
  {
   "cell_type": "code",
   "execution_count": null,
   "metadata": {
    "ExecuteTime": {
     "end_time": "2023-03-04T21:15:03.081921Z",
     "start_time": "2023-03-04T21:14:54.812081Z"
    }
   },
   "outputs": [],
   "source": [
    "for i in range(column_name.size-8,-1,-1):\n",
    "    SUM = pd.DataFrame()\n",
    "    SUM[str(column_name[i])+'_sum'] = new_pd[column_name[i]].groupby(new_pd[str(column_name[i])+'_mark']).sum()\n",
    "    temp = pd.merge(new_pd[str(column_name[i])+'_mark'],SUM,how='left',left_on=str(column_name[i])+'_mark',right_index=True)\n",
    "#     print(temp)\n",
    "#     print(type(new_pd[column_name[i]].groupby(new_pd[str(column_name[i])+'_mark']).sum()))\n",
    "    new_pd.insert(int(np.argwhere(new_pd.columns.values==str(column_name[i])+'_mark')[0][0])+1,str(column_name[i])+'_sum',0)\n",
    "    new_pd.update(temp)\n",
    "\n",
    "new_pd.insert(int(np.argwhere(new_pd.columns.values== 'Time Stamp (ms)')[0][0])+1,'Time Interval (ms)',new_pd['Time Stamp (ms)'].diff())\n",
    "new_pd.to_csv(os.path.join(dpath, mouseID+'_'+date+'_'+session+\"_AUC_of_S_per_event.csv\"))"
   ]
  },
  {
   "cell_type": "code",
   "execution_count": null,
   "metadata": {
    "ExecuteTime": {
     "end_time": "2023-03-04T21:15:05.149469Z",
     "start_time": "2023-03-04T21:15:03.086451Z"
    }
   },
   "outputs": [],
   "source": [
    "# print(new_pd[2].groupby(new_pd['2_mark']).count())"
   ]
  },
  {
   "cell_type": "markdown",
   "metadata": {},
   "source": [
    "## Frequency"
   ]
  },
  {
   "cell_type": "code",
   "execution_count": null,
   "metadata": {
    "ExecuteTime": {
     "end_time": "2023-03-04T21:15:07.304821Z",
     "start_time": "2023-03-04T21:15:05.157456Z"
    },
    "scrolled": true
   },
   "outputs": [],
   "source": [
    "df_min=new_pd['min']\n",
    "frequency_df=new_pd.diff()\n",
    "col=[]\n",
    "for i in column_name[:-7]:\n",
    "    col.append(str(i)+'_mark')\n",
    "frequency_df=frequency_df[col]\n",
    "frequency_df[frequency_df<0]=0\n",
    "frequency_df2=frequency_df[frequency_df>0]\n",
    "frequency_df2['min']=df_min\n",
    "frequency_df2=frequency_df2.groupby('min').count()\n",
    "frequency_df2.columns=frequency_df2.columns.str.rstrip('_mark').astype('int64')\n",
    "frequency_df2.to_csv(os.path.join(dpath, mouseID+'_'+date+'_'+session+\"_Number_of_S_events_per_min.csv\"))\n",
    "frequency_df2.columns.values"
   ]
  },
  {
   "cell_type": "markdown",
   "metadata": {},
   "source": [
    "# Frame check"
   ]
  }
 ],
 "metadata": {
  "kernelspec": {
   "display_name": "Python 3 (ipykernel)",
   "language": "python",
   "name": "python3"
  },
  "language_info": {
   "codemirror_mode": {
    "name": "ipython",
    "version": 3
   },
   "file_extension": ".py",
   "mimetype": "text/x-python",
   "name": "python",
   "nbconvert_exporter": "python",
   "pygments_lexer": "ipython3",
   "version": "3.8.13"
  },
  "name": "pipeline.ipynb",
  "toc": {
   "base_numbering": 1,
   "nav_menu": {},
   "number_sections": true,
   "sideBar": true,
   "skip_h1_title": false,
   "title_cell": "Table of Contents",
   "title_sidebar": "Contents",
   "toc_cell": false,
   "toc_position": {
    "height": "calc(100% - 180px)",
    "left": "10px",
    "top": "150px",
    "width": "334px"
   },
   "toc_section_display": false,
   "toc_window_display": true
  },
  "toc-autonumbering": false,
  "toc-showcode": false,
  "toc-showmarkdowntxt": false,
  "toc-showtags": true
 },
 "nbformat": 4,
 "nbformat_minor": 4
}
