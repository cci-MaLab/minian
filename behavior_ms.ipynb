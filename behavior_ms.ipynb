{
 "cells": [
  {
   "cell_type": "markdown",
   "id": "b3afc043",
   "metadata": {},
   "source": [
    "# Export csv file(behavior_ms) from txt file"
   ]
  },
  {
   "cell_type": "markdown",
   "id": "1f8b255b",
   "metadata": {},
   "source": [
    "## Import packages"
   ]
  },
  {
   "cell_type": "code",
   "execution_count": 22,
   "id": "a5ce9fa2",
   "metadata": {
    "ExecuteTime": {
     "end_time": "2023-09-05T20:44:07.730572Z",
     "start_time": "2023-09-05T20:44:07.722245Z"
    },
    "vscode": {
     "languageId": "shellscript"
    }
   },
   "outputs": [],
   "source": [
    "import csv\n",
    "import sys\n",
    "import os\n",
    "import re\n",
    "import pandas as pd\n",
    "minian_path = \".\"\n",
    "sys.path.insert(0, minian_path)\n",
    "from minian.utilities import (\n",
    "    match_information,\n",
    "    match_path\n",
    ")"
   ]
  },
  {
   "cell_type": "markdown",
   "id": "45dbebac",
   "metadata": {},
   "source": [
    "## File path"
   ]
  },
  {
   "cell_type": "markdown",
   "id": "15493e07",
   "metadata": {},
   "source": [
    "Introduction for the parameters:\n",
    "- dpath: the minian folder path\n",
    "- inputfilename: the name of the origin behavior file\n",
    "- outputfilename: the file with frame number, the real time and the number of behavior events happen at that frame\n",
    "- timestamp_path: the path of the timeStamps.csv file which is the output from the miniscope\n",
    "\n",
    "The explaination of `match_information` and `match_path` function:\n",
    "- Use regular expression to get the information from the dpath.(Based on the current folder structure)\n",
    "- Both of them are in the utilitis.py. You can change it if the folder structure changes."
   ]
  },
  {
   "cell_type": "code",
   "execution_count": null,
   "id": "78da65a8",
   "metadata": {},
   "outputs": [],
   "source": [
    "dpath=\"/N/project/Cortical_Calcium_Image/Miniscope data/05.2023_Tenth_group/AA060_D8/2023_05_09/10_26_58/Miniscope_2\"\n",
    "inputfilename = \"2023-05-09_10h19m_Subject YC_AA060.txt\"\n",
    "mouseID, day, session = match_information(dpath)\n",
    "mouse_path, video_path = match_path(dpath)\n",
    "outputfilename = \"behavior_ms.csv\"\n",
    "timestamp_path=os.path.join(video_path, \"timeStamps.csv\")"
   ]
  },
  {
   "cell_type": "markdown",
   "id": "876cc7b9",
   "metadata": {},
   "source": [
    "## reformat"
   ]
  },
  {
   "cell_type": "code",
   "execution_count": null,
   "id": "ab38d912",
   "metadata": {
    "ExecuteTime": {
     "end_time": "2023-09-05T20:44:07.820633Z",
     "start_time": "2023-09-05T20:44:07.757804Z"
    },
    "vscode": {
     "languageId": "shellscript"
    }
   },
   "outputs": [],
   "source": [
    "timestamp_pd=pd.read_csv(timestamp_path)"
   ]
  },
  {
   "cell_type": "code",
   "execution_count": null,
   "id": "624e60e2",
   "metadata": {
    "ExecuteTime": {
     "end_time": "2023-09-05T20:44:07.832029Z",
     "start_time": "2023-09-05T20:44:07.824265Z"
    },
    "vscode": {
     "languageId": "shellscript"
    }
   },
   "outputs": [],
   "source": [
    "def reformat(data_array,col_name, time_pd):\n",
    "    '''\n",
    "    This is the fuction to convert the X array, Y array, Z array to the pandas dataframe format. From list to dataframe columns.\n",
    "    '''\n",
    "    output_pd = time_pd\n",
    "    # add a column called col_name and each value is 0\n",
    "    output_pd.insert(len(output_pd.columns), col_name, 0)\n",
    "    i = 0\n",
    "\n",
    "    while (i < len(data_array)):\n",
    "        # the unit of timStamps is ms but the unit of the txt file is sec. Here we want to uniform the unit.\n",
    "        timestamp = data_array[i] * 1000\n",
    "        # \n",
    "        output_pd.loc[(output_pd['Time Stamp (ms)'].shift(0)<= timestamp) & (output_pd['Time Stamp (ms)'].shift(-1)>timestamp), col_name] += 1\n",
    "        i += 1\n",
    "\n",
    "    print(\"{}: {}\".format(col_name,output_pd[col_name].sum()))\n",
    "    return output_pd"
   ]
  },
  {
   "cell_type": "code",
   "execution_count": 26,
   "id": "613f965f",
   "metadata": {
    "ExecuteTime": {
     "end_time": "2023-09-05T20:44:08.354107Z",
     "start_time": "2023-09-05T20:44:07.837487Z"
    },
    "scrolled": true,
    "vscode": {
     "languageId": "shellscript"
    }
   },
   "outputs": [
    {
     "name": "stdout",
     "output_type": "stream",
     "text": [
      "mouseID: AA060, day: D8, session: None\n",
      "alp_number: 32\n",
      "ialp_number: 23\n",
      "rnfs_number: 27\n",
      "X:\n",
      "Y:\n",
      "Z:\n",
      "RNFS: 27\n",
      "ALP: 32\n",
      "IALP: 23\n",
      "ALP_Timeout: 4\n"
     ]
    }
   ],
   "source": [
    "alp_number: int\n",
    "ialp_number: int\n",
    "rnfs_number: int\n",
    "# X,Y,Z array is the same with the protocol\n",
    "X_array = []\n",
    "Y_array = []\n",
    "Z_array = []\n",
    "ALP_Timeout_array = []\n",
    "file_path = os.path.join(mouse_path, inputfilename)\n",
    "behavior_timeStamp = list(csv.reader(open(file_path)))\n",
    "\n",
    "alp_number = int(float(re.findall(r\"\\d+\\.?\\d*\", behavior_timeStamp[13][0])[0]))\n",
    "ialp_number = int(\n",
    "    float(re.findall(r\"\\d+\\.?\\d*\", behavior_timeStamp[21][0])[0]))\n",
    "rnfs_number = int(\n",
    "    float(re.findall(r\"\\d+\\.?\\d*\", behavior_timeStamp[14][0])[0]))\n",
    "# alp=re.findall(r\"\\d+\\.?\\d*\", )\n",
    "print(\"mouseID: {}, day: {}, session: {}\".format(mouseID, day, session))\n",
    "print(\"alp_number: {}\".format(alp_number))\n",
    "print(\"ialp_number: {}\".format(ialp_number))\n",
    "print(\"rnfs_number: {}\".format(rnfs_number))\n",
    "\n",
    "print(behavior_timeStamp[36][0])  # X: reinforcement\n",
    "for i in range(37, 237):\n",
    "    for j in range(1, 6):\n",
    "        X_array.append(\n",
    "            float(re.findall(r\"\\d+\\.?\\d*\", behavior_timeStamp[i][0])[j]))\n",
    "# print(float(re.findall(r\"\\d+\\.?\\d*\", behavior_timeStamp[237][0])[1]))\n",
    "X_array.append(float(re.findall(r\"\\d+\\.?\\d*\", behavior_timeStamp[237][0])[1]))\n",
    "X_array = list(filter(lambda x: x != 0, X_array))\n",
    "X_array_unique = []\n",
    "for i in X_array:\n",
    "    if i not in X_array_unique:\n",
    "        X_array_unique.append(i)\n",
    "\n",
    "print(behavior_timeStamp[238][0])  # Y: active lever press\n",
    "for i in range(239, 439):\n",
    "    for j in range(1, 6):\n",
    "        Y_array.append(\n",
    "            float(re.findall(r\"\\d+\\.?\\d*\", behavior_timeStamp[i][0])[j]))\n",
    "Y_array.append(float(re.findall(r\"\\d+\\.?\\d*\", behavior_timeStamp[439][0])[1]))\n",
    "Y_array = list(filter(lambda x: x != 0, Y_array))\n",
    "Y_array_unique = []\n",
    "for i in Y_array:\n",
    "    if i not in Y_array_unique:\n",
    "        Y_array_unique.append(i)\n",
    "\n",
    "print(behavior_timeStamp[440][0])  # Z: inactive lever press\n",
    "for i in range(441, 641):\n",
    "    for j in range(1, 6):\n",
    "        Z_array.append(\n",
    "            float(re.findall(r\"\\d+\\.?\\d*\", behavior_timeStamp[i][0])[j]))\n",
    "Z_array.append(float(re.findall(r\"\\d+\\.?\\d*\", behavior_timeStamp[641][0])[1]))\n",
    "Z_array = list(filter(lambda x: x != 0, Z_array))\n",
    "Z_array_unique = []\n",
    "for i in Z_array:\n",
    "    if i not in Z_array_unique:\n",
    "        Z_array_unique.append(i)\n",
    "\n",
    "for i in Y_array_unique:\n",
    "    if i not in X_array_unique:\n",
    "        ALP_Timeout_array.append(i)\n",
    "# Merge all the events together\n",
    "res = reformat(X_array, \"RNFS\", timestamp_pd)\n",
    "# print(res)\n",
    "res = reformat(Y_array, \"ALP\", res)\n",
    "# print(res)\n",
    "res = reformat(Z_array, \"IALP\", res)\n",
    "# print(res)\n",
    "res = reformat(ALP_Timeout_array, \"ALP_Timeout\", res)\n",
    "\n",
    "res.to_csv(os.path.join(mouse_path, mouseID+\"_\" +\n",
    "           day+\"_\"+\"behavior_ms.csv\"), index=None)"
   ]
  },
  {
   "cell_type": "markdown",
   "id": "66cf0f2c",
   "metadata": {},
   "source": [
    "# Check"
   ]
  },
  {
   "cell_type": "markdown",
   "id": "c260dfdf",
   "metadata": {},
   "source": [
    "This is a check part to check is the output is correct."
   ]
  },
  {
   "cell_type": "code",
   "execution_count": 27,
   "id": "ea867edc",
   "metadata": {
    "ExecuteTime": {
     "end_time": "2023-09-05T20:44:08.401021Z",
     "start_time": "2023-09-05T20:44:08.357176Z"
    },
    "vscode": {
     "languageId": "shellscript"
    }
   },
   "outputs": [],
   "source": [
    "check_pd = pd.read_csv(os.path.join(mouse_path,mouseID+\"_\"+day+\"_\"+\"behavior_ms.csv\"))"
   ]
  },
  {
   "cell_type": "code",
   "execution_count": 28,
   "id": "88d3975f",
   "metadata": {
    "ExecuteTime": {
     "end_time": "2023-09-05T20:44:08.414858Z",
     "start_time": "2023-09-05T20:44:08.403747Z"
    },
    "vscode": {
     "languageId": "shellscript"
    }
   },
   "outputs": [
    {
     "name": "stdout",
     "output_type": "stream",
     "text": [
      "      Frame Number  Time Stamp (ms)  Buffer Index  RNFS  ALP  IALP  \\\n",
      "9990          9990           335398             0     1    2     0   \n",
      "\n",
      "      ALP_Timeout  \n",
      "9990            0  \n"
     ]
    }
   ],
   "source": [
    "print(check_pd.loc[(check_pd[\"RNFS\"]>1) | (check_pd[\"ALP\"]>1) | (check_pd[\"IALP\"]>1)])"
   ]
  },
  {
   "cell_type": "code",
   "execution_count": 29,
   "id": "1308ada5",
   "metadata": {
    "ExecuteTime": {
     "end_time": "2023-09-05T20:44:08.430976Z",
     "start_time": "2023-09-05T20:44:08.417298Z"
    },
    "vscode": {
     "languageId": "shellscript"
    }
   },
   "outputs": [
    {
     "name": "stdout",
     "output_type": "stream",
     "text": [
      "        Frame Number  RNFS  ALP  ALP_Timeout\n",
      "3919            3919     1    1            0\n",
      "6112            6112     1    1            0\n",
      "9990            9990     1    2            0\n",
      "20438          20438     1    1            0\n",
      "20489          20489     0    1            1\n",
      "21784          21784     1    1            0\n",
      "22842          22842     1    1            0\n",
      "34663          34663     1    1            0\n",
      "36227          36227     1    1            0\n",
      "37609          37609     1    1            0\n",
      "39088          39088     1    1            0\n",
      "40831          40831     1    1            0\n",
      "45111          45111     1    1            0\n",
      "46651          46651     1    1            0\n",
      "53630          53630     1    1            0\n",
      "54732          54732     1    1            0\n",
      "63634          63634     1    1            0\n",
      "75965          75965     1    1            0\n",
      "79504          79504     1    1            0\n",
      "85345          85345     1    1            0\n",
      "87129          87129     1    1            0\n",
      "88689          88689     1    1            0\n",
      "88785          88785     0    1            1\n",
      "90360          90360     1    1            0\n",
      "90462          90462     0    1            1\n",
      "90471          90471     0    1            1\n",
      "91585          91585     1    1            0\n",
      "92993          92993     1    1            0\n",
      "96880          96880     1    1            0\n",
      "101020        101020     1    1            0\n",
      "104544        104544     1    1            0\n"
     ]
    }
   ],
   "source": [
    "print(check_pd.loc[(check_pd[\"RNFS\"]>=1) | (check_pd[\"ALP\"]>=1) | (check_pd[\"ALP_Timeout\"]>=1),[\"Frame Number\",\"RNFS\",\"ALP\",\"ALP_Timeout\"]])"
   ]
  },
  {
   "cell_type": "code",
   "execution_count": null,
   "id": "9f6e65e9",
   "metadata": {},
   "outputs": [],
   "source": [
    " "
   ]
  }
 ],
 "metadata": {
  "kernelspec": {
   "display_name": "Python 3 (ipykernel)",
   "language": "python",
   "name": "python3"
  },
  "language_info": {
   "codemirror_mode": {
    "name": "ipython",
    "version": 3
   },
   "file_extension": ".py",
   "mimetype": "text/x-python",
   "name": "python",
   "nbconvert_exporter": "python",
   "pygments_lexer": "ipython3",
   "version": "3.8.13"
  },
  "toc": {
   "base_numbering": 1,
   "nav_menu": {},
   "number_sections": true,
   "sideBar": true,
   "skip_h1_title": false,
   "title_cell": "Table of Contents",
   "title_sidebar": "Contents",
   "toc_cell": false,
   "toc_position": {
    "height": "717.8px",
    "left": "1108px",
    "top": "434.483px",
    "width": "268px"
   },
   "toc_section_display": true,
   "toc_window_display": true
  },
  "vscode": {
   "interpreter": {
    "hash": "762801451fe76a42c18dac23992a1af646d8c5db732780ee88f9f67c99ccc586"
   }
  }
 },
 "nbformat": 4,
 "nbformat_minor": 5
}
