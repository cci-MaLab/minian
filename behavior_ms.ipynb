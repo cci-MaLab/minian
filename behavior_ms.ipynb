{
 "cells": [
  {
   "cell_type": "markdown",
   "id": "b3afc043",
   "metadata": {},
   "source": [
    "# Export csv file(behavior_ms) from txt file"
   ]
  },
  {
   "cell_type": "markdown",
   "id": "1f8b255b",
   "metadata": {},
   "source": [
    "## Import packages"
   ]
  },
  {
   "cell_type": "code",
   "execution_count": 8,
   "id": "a5ce9fa2",
   "metadata": {
    "ExecuteTime": {
     "end_time": "2023-06-07T14:28:26.331819Z",
     "start_time": "2023-06-07T14:28:26.327276Z"
    }
   },
   "outputs": [],
   "source": [
    "import csv\n",
    "import sys\n",
    "import os\n",
    "import re\n",
    "import pandas as pd\n",
    "minian_path = \".\"\n",
    "sys.path.insert(0, minian_path)\n",
    "from minian.utilities import (\n",
    "    match_information,\n",
    "    match_path\n",
    ")"
   ]
  },
  {
   "cell_type": "markdown",
   "id": "45dbebac",
   "metadata": {},
   "source": [
    "## File path"
   ]
  },
  {
   "cell_type": "code",
   "execution_count": 9,
   "id": "52a6f2ce",
   "metadata": {
    "ExecuteTime": {
     "end_time": "2023-06-07T14:28:26.345111Z",
     "start_time": "2023-06-07T14:28:26.334325Z"
    }
   },
   "outputs": [],
   "source": [
    "dpath=\"/N/project/Cortical_Calcium_Image/Miniscope data/03.2023_Eighth_group/AA050_D8/2023_03_14/10_33_11/Miniscope_2\"\n",
    "inputfilename = \"2023-03-14_10h27m_Subject YC_AA050.txt\"\n",
    "mouseID, day, session = match_information(dpath)\n",
    "mouse_path, video_path = match_path(dpath)\n",
    "outputfilename = \"behavior_ms.csv\"\n",
    "timestamp_path=os.path.join(video_path, \"timeStamps.csv\")"
   ]
  },
  {
   "cell_type": "markdown",
   "id": "876cc7b9",
   "metadata": {},
   "source": [
    "## reformat"
   ]
  },
  {
   "cell_type": "code",
   "execution_count": 10,
   "id": "ab38d912",
   "metadata": {
    "ExecuteTime": {
     "end_time": "2023-06-07T14:28:26.496374Z",
     "start_time": "2023-06-07T14:28:26.347830Z"
    }
   },
   "outputs": [],
   "source": [
    "timestamp_pd=pd.read_csv(timestamp_path)"
   ]
  },
  {
   "cell_type": "code",
   "execution_count": 11,
   "id": "624e60e2",
   "metadata": {
    "ExecuteTime": {
     "end_time": "2023-06-07T14:28:26.504243Z",
     "start_time": "2023-06-07T14:28:26.498825Z"
    }
   },
   "outputs": [],
   "source": [
    "def reformat(data_array,col_name, time_pd):\n",
    "    output_pd = time_pd\n",
    "    output_pd.insert(len(output_pd.columns), col_name, 0)\n",
    "    i = 0\n",
    "#     timestamp= data_array[i] * 1000\n",
    "#     print(output_pd.loc[(output_pd['Time Stamp (ms)'].shift(0)<= timestamp) & (output_pd['Time Stamp (ms)'].shift(-1) > timestamp)])\n",
    "    while (i < len(data_array)):\n",
    "        timestamp = data_array[i] * 1000\n",
    "        output_pd.loc[(output_pd['Time Stamp (ms)'].shift(0)<= timestamp) & (output_pd['Time Stamp (ms)'].shift(-1)>timestamp), col_name] += 1\n",
    "        i += 1\n",
    "#         print(output_pd.loc[(output_pd['Time Stamp (ms)'].shift(0)<= timestamp) & (output_pd['Time Stamp (ms)'].shift(-1) > timestamp)])\n",
    "    print(\"{}: {}\".format(col_name,output_pd[col_name].sum()))\n",
    "    return output_pd"
   ]
  },
  {
   "cell_type": "code",
   "execution_count": 12,
   "id": "613f965f",
   "metadata": {
    "ExecuteTime": {
     "end_time": "2023-06-07T14:28:27.053228Z",
     "start_time": "2023-06-07T14:28:26.507223Z"
    },
    "scrolled": false
   },
   "outputs": [
    {
     "name": "stdout",
     "output_type": "stream",
     "text": [
      "mouseID: AA050, day: D8, session: None\n",
      "alp_number: 38\n",
      "ialp_number: 12\n",
      "rnfs_number: 26\n",
      "X:\n",
      "Y:\n",
      "Z:\n",
      "RNFS: 26\n",
      "ALP: 38\n",
      "IALP: 12\n"
     ]
    }
   ],
   "source": [
    "alp_number: int\n",
    "ialp_number: int\n",
    "rnfs_number: int\n",
    "X_array = []\n",
    "Y_array = []\n",
    "Z_array = []\n",
    "file_path = os.path.join(mouse_path, inputfilename)\n",
    "behavior_timeStamp = list(csv.reader(open(file_path)))\n",
    "# for line in behavior_timeStamp:\n",
    "#     print(line)\n",
    "alp_number = int(float(re.findall(r\"\\d+\\.?\\d*\", behavior_timeStamp[13][0])[0]))\n",
    "ialp_number = int(\n",
    "    float(re.findall(r\"\\d+\\.?\\d*\", behavior_timeStamp[21][0])[0]))\n",
    "rnfs_number = int(\n",
    "    float(re.findall(r\"\\d+\\.?\\d*\", behavior_timeStamp[14][0])[0]))\n",
    "# alp=re.findall(r\"\\d+\\.?\\d*\", )\n",
    "print(\"mouseID: {}, day: {}, session: {}\".format(mouseID, day, session))\n",
    "print(\"alp_number: {}\".format(alp_number))\n",
    "print(\"ialp_number: {}\".format(ialp_number))\n",
    "print(\"rnfs_number: {}\".format(rnfs_number))\n",
    "\n",
    "print(behavior_timeStamp[36][0])  # X: reinforcement\n",
    "for i in range(37, 237):\n",
    "    for j in range(1, 6):\n",
    "        X_array.append(\n",
    "            float(re.findall(r\"\\d+\\.?\\d*\", behavior_timeStamp[i][0])[j]))\n",
    "# print(float(re.findall(r\"\\d+\\.?\\d*\", behavior_timeStamp[237][0])[1]))\n",
    "X_array.append(float(re.findall(r\"\\d+\\.?\\d*\", behavior_timeStamp[237][0])[1]))\n",
    "X_array = list(filter(lambda x: x != 0, X_array))\n",
    "\n",
    "print(behavior_timeStamp[238][0])  # Y: active lever press\n",
    "for i in range(239, 439):\n",
    "    for j in range(1, 6):\n",
    "        Y_array.append(\n",
    "            float(re.findall(r\"\\d+\\.?\\d*\", behavior_timeStamp[i][0])[j]))\n",
    "Y_array.append(float(re.findall(r\"\\d+\\.?\\d*\", behavior_timeStamp[439][0])[1]))\n",
    "Y_array = list(filter(lambda x: x != 0, Y_array))\n",
    "\n",
    "print(behavior_timeStamp[440][0])  # Z: inactive lever press\n",
    "for i in range(441, 641):\n",
    "    for j in range(1, 6):\n",
    "        Z_array.append(\n",
    "            float(re.findall(r\"\\d+\\.?\\d*\", behavior_timeStamp[i][0])[j]))\n",
    "Z_array.append(float(re.findall(r\"\\d+\\.?\\d*\", behavior_timeStamp[641][0])[1]))\n",
    "Z_array = list(filter(lambda x: x != 0, Z_array))\n",
    "\n",
    "res = reformat(X_array, \"RNFS\", timestamp_pd)\n",
    "# print(res)\n",
    "res = reformat(Y_array, \"ALP\", res)\n",
    "# print(res)\n",
    "res = reformat(Z_array, \"IALP\", res)\n",
    "# print(res)\n",
    "\n",
    "res.to_csv(os.path.join(mouse_path, mouseID+\"_\" +\n",
    "           day+\"_\"+\"behavior_ms.csv\"), index=None)"
   ]
  },
  {
   "cell_type": "markdown",
   "id": "66cf0f2c",
   "metadata": {},
   "source": [
    "# Check"
   ]
  },
  {
   "cell_type": "code",
   "execution_count": 13,
   "id": "ea867edc",
   "metadata": {
    "ExecuteTime": {
     "end_time": "2023-06-07T14:28:27.104202Z",
     "start_time": "2023-06-07T14:28:27.055703Z"
    }
   },
   "outputs": [],
   "source": [
    "check_pd = pd.read_csv(os.path.join(mouse_path,mouseID+\"_\"+day+\"_\"+\"behavior_ms.csv\"))"
   ]
  },
  {
   "cell_type": "code",
   "execution_count": 14,
   "id": "88d3975f",
   "metadata": {
    "ExecuteTime": {
     "end_time": "2023-06-07T14:28:27.114349Z",
     "start_time": "2023-06-07T14:28:27.106476Z"
    }
   },
   "outputs": [
    {
     "name": "stdout",
     "output_type": "stream",
     "text": [
      "Empty DataFrame\n",
      "Columns: [Frame Number, Time Stamp (ms), Buffer Index, RNFS, ALP, IALP]\n",
      "Index: []\n"
     ]
    }
   ],
   "source": [
    "print(check_pd.loc[(check_pd[\"RNFS\"]>1) | (check_pd[\"ALP\"]>1) | (check_pd[\"IALP\"]>1)])"
   ]
  },
  {
   "cell_type": "code",
   "execution_count": null,
   "id": "1308ada5",
   "metadata": {},
   "outputs": [],
   "source": []
  }
 ],
 "metadata": {
  "kernelspec": {
   "display_name": "Python 3 (ipykernel)",
   "language": "python",
   "name": "python3"
  },
  "language_info": {
   "codemirror_mode": {
    "name": "ipython",
    "version": 3
   },
   "file_extension": ".py",
   "mimetype": "text/x-python",
   "name": "python",
   "nbconvert_exporter": "python",
   "pygments_lexer": "ipython3",
   "version": "3.8.13"
  },
  "toc": {
   "base_numbering": 1,
   "nav_menu": {},
   "number_sections": true,
   "sideBar": true,
   "skip_h1_title": false,
   "title_cell": "Table of Contents",
   "title_sidebar": "Contents",
   "toc_cell": false,
   "toc_position": {
    "height": "717.8px",
    "left": "1108px",
    "top": "434.483px",
    "width": "288.767px"
   },
   "toc_section_display": true,
   "toc_window_display": true
  }
 },
 "nbformat": 4,
 "nbformat_minor": 5
}
