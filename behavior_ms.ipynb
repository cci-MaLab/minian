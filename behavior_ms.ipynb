{
 "cells": [
  {
   "cell_type": "markdown",
   "id": "b3afc043",
   "metadata": {},
   "source": [
    "# Export csv file(behavior_ms) from txt file"
   ]
  },
  {
   "cell_type": "code",
   "execution_count": null,
   "id": "a5ce9fa2",
   "metadata": {
    "ExecuteTime": {
     "end_time": "2023-03-30T17:45:33.960615Z",
     "start_time": "2023-03-30T17:45:15.758544Z"
    }
   },
   "outputs": [],
   "source": [
    "import csv\n",
    "import sys\n",
    "import os\n",
    "import re\n",
    "import pandas as pd\n",
    "minian_path = \".\"\n",
    "sys.path.insert(0, minian_path)\n",
    "from minian.utilities import (\n",
    "    match_information,\n",
    "    match_path\n",
    ")"
   ]
  },
  {
   "cell_type": "code",
   "execution_count": null,
   "id": "52a6f2ce",
   "metadata": {
    "ExecuteTime": {
     "end_time": "2023-03-30T17:45:41.429275Z",
     "start_time": "2023-03-30T17:45:41.423503Z"
    }
   },
   "outputs": [],
   "source": [
    "dpath=\"/N/project/Cortical_Calcium_Image/Miniscope data/12.2022_Sixth_group/AA034_D7/2022_12_10/10_41_39/Miniscope_2\"\n",
    "inputfilename = \"2022-12-10_10h41m_Subject YC_AA034.txt\"\n",
    "mouseID, day, session = match_information(dpath)\n",
    "mouse_path, video_path = match_path(dpath)\n",
    "outputfilename = \"behavior_ms.csv\"\n",
    "timestamp_path=os.path.join(video_path, \"timeStamps.csv\")"
   ]
  },
  {
   "cell_type": "code",
   "execution_count": null,
   "id": "ab38d912",
   "metadata": {
    "ExecuteTime": {
     "end_time": "2023-03-30T17:46:05.410321Z",
     "start_time": "2023-03-30T17:46:05.296319Z"
    }
   },
   "outputs": [],
   "source": [
    "timestamp_pd=pd.read_csv(timestamp_path)"
   ]
  },
  {
   "cell_type": "code",
   "execution_count": null,
   "id": "60a80c05",
   "metadata": {
    "ExecuteTime": {
     "end_time": "2023-03-30T17:46:07.895564Z",
     "start_time": "2023-03-30T17:46:07.887917Z"
    }
   },
   "outputs": [],
   "source": [
    "def reformat(data_array,col_name, time_pd):\n",
    "#     output = pd.Dataframe()\n",
    "    j = 0\n",
    "    flag = 0\n",
    "    output = pd.concat([time_pd],axis=1)\n",
    "    res = []\n",
    "    for i in range(0,len(output['Time Stamp (ms)'])):\n",
    "#         print(type(output['Time Stamp (ms)'][i]))\n",
    "#         print(data_array[j]*1000)\n",
    "        if float(output['Time Stamp (ms)'][i]) <= data_array[j]*1000 and float(output['Time Stamp (ms)'][i+1])>data_array[j]*1000:\n",
    "#             print(str(i)+\" big\")\n",
    "            if data_array[j]==0 and flag==0:\n",
    "                flag=1\n",
    "                j=j+1\n",
    "                res.append(1)\n",
    "                continue\n",
    "            elif data_array[j]==0:\n",
    "                break    \n",
    "            res.append(1)\n",
    "            j=j+1\n",
    "        else:\n",
    "#             print(str(i)+ \" small\")\n",
    "            res.append(0)\n",
    "#     print(output['Time Stamp (ms)'])\n",
    "    while len(res)<len(output['Time Stamp (ms)']):\n",
    "        res.append(0)\n",
    "#     print(j)\n",
    "    \n",
    "    output[col_name]=res\n",
    "#     print(res)\n",
    "#     print(output)\n",
    "    return output"
   ]
  },
  {
   "cell_type": "code",
   "execution_count": null,
   "id": "613f965f",
   "metadata": {
    "ExecuteTime": {
     "end_time": "2023-03-30T17:46:15.235837Z",
     "start_time": "2023-03-30T17:46:10.695759Z"
    },
    "scrolled": true
   },
   "outputs": [],
   "source": [
    "alp_number: int\n",
    "ialp_number: int\n",
    "rnfs_number: int\n",
    "X_array = []\n",
    "Y_array = []\n",
    "Z_array = []\n",
    "file_path = os.path.join(mouse_path,inputfilename)\n",
    "behavior_timeStamp = list(csv.reader(open(file_path)))\n",
    "# for line in behavior_timeStamp:\n",
    "#     print(line)\n",
    "alp_number = int(float(re.findall(r\"\\d+\\.?\\d*\", behavior_timeStamp[13][0])[0]))\n",
    "ialp_number = int(float(re.findall(r\"\\d+\\.?\\d*\", behavior_timeStamp[21][0])[0]))\n",
    "rnfs_number = int(float(re.findall(r\"\\d+\\.?\\d*\", behavior_timeStamp[14][0])[0]))\n",
    "# alp=re.findall(r\"\\d+\\.?\\d*\", )\n",
    "print(alp_number)\n",
    "print(ialp_number)\n",
    "print(rnfs_number)\n",
    "print(behavior_timeStamp[36][0])  # X: reinforcement\n",
    "for i in range(37, 237):\n",
    "    for j in range(1, 6):\n",
    "        X_array.append(float(re.findall(r\"\\d+\\.?\\d*\", behavior_timeStamp[i][0])[j]))\n",
    "# print(float(re.findall(r\"\\d+\\.?\\d*\", behavior_timeStamp[237][0])[1]))\n",
    "X_array.append(float(re.findall(r\"\\d+\\.?\\d*\", behavior_timeStamp[237][0])[1]))\n",
    "print(behavior_timeStamp[238][0])  # Y: active lever press\n",
    "for i in range(239, 439):\n",
    "    for j in range(1, 6):\n",
    "        Y_array.append(float(re.findall(r\"\\d+\\.?\\d*\", behavior_timeStamp[i][0])[j]))\n",
    "Y_array.append(float(re.findall(r\"\\d+\\.?\\d*\", behavior_timeStamp[439][0])[1]))\n",
    "print(behavior_timeStamp[440][0])  # Z: inactive lever press\n",
    "for i in range(441, 641):\n",
    "    for j in range(1, 6):\n",
    "        Z_array.append(float(re.findall(r\"\\d+\\.?\\d*\", behavior_timeStamp[i][0])[j]))\n",
    "Z_array.append(float(re.findall(r\"\\d+\\.?\\d*\", behavior_timeStamp[641][0])[1]))\n",
    "\n",
    "\n",
    "res = reformat(X_array,\"reinforcement\" ,timestamp_pd)\n",
    "res = reformat(Y_array, \"ALP\",res)\n",
    "res = reformat(Z_array,\"IALP\",res)\n",
    "\n",
    "res.to_csv(os.path.join(mouse_path,mouseID+\"_\"+day+\"_\"+\"behavior_ms.csv\"), index = None)\n"
   ]
  },
  {
   "cell_type": "code",
   "execution_count": null,
   "id": "f5517449",
   "metadata": {},
   "outputs": [],
   "source": []
  }
 ],
 "metadata": {
  "kernelspec": {
   "display_name": "Python 3 (ipykernel)",
   "language": "python",
   "name": "python3"
  },
  "language_info": {
   "codemirror_mode": {
    "name": "ipython",
    "version": 3
   },
   "file_extension": ".py",
   "mimetype": "text/x-python",
   "name": "python",
   "nbconvert_exporter": "python",
   "pygments_lexer": "ipython3",
   "version": "3.8.13"
  },
  "toc": {
   "base_numbering": 1,
   "nav_menu": {},
   "number_sections": true,
   "sideBar": true,
   "skip_h1_title": false,
   "title_cell": "Table of Contents",
   "title_sidebar": "Contents",
   "toc_cell": false,
   "toc_position": {
    "height": "calc(100% - 180px)",
    "left": "10px",
    "top": "150px",
    "width": "293px"
   },
   "toc_section_display": true,
   "toc_window_display": true
  }
 },
 "nbformat": 4,
 "nbformat_minor": 5
}
