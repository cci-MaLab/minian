{
 "cells": [
  {
   "cell_type": "markdown",
   "id": "a5f2d37d",
   "metadata": {},
   "source": [
    "# Import"
   ]
  },
  {
   "cell_type": "code",
   "execution_count": 67,
   "id": "ca608d9c",
   "metadata": {
    "ExecuteTime": {
     "end_time": "2023-10-31T01:44:51.923807Z",
     "start_time": "2023-10-31T01:44:51.917974Z"
    }
   },
   "outputs": [],
   "source": [
    "import sys\n",
    "import os\n",
    "import math\n",
    "import numpy as np\n",
    "import pandas as pd \n",
    "import xarray as xr\n",
    "import configparser"
   ]
  },
  {
   "cell_type": "markdown",
   "id": "964131e2",
   "metadata": {},
   "source": [
    "# Groups"
   ]
  },
  {
   "cell_type": "code",
   "execution_count": 68,
   "id": "3ca23b87",
   "metadata": {
    "ExecuteTime": {
     "end_time": "2023-10-31T01:44:51.946615Z",
     "start_time": "2023-10-31T01:44:51.927989Z"
    }
   },
   "outputs": [],
   "source": [
    "saline = [\"AA030\",\"AA034\",\"AA036\",\"AA039\",\"AA042\", \"AA048\", \"AA059\"]\n",
    "coke = [\"AA017\", \"AA018\",\"AA027\",\"AA033\", \"AA044\",\"AA050\", \"AA057\", \"AA058\", \"AA060\"]\n",
    "days = ['D1','D7']\n",
    "sessions = ['S1','S4']"
   ]
  },
  {
   "cell_type": "code",
   "execution_count": 69,
   "id": "bfcf153f",
   "metadata": {
    "ExecuteTime": {
     "end_time": "2023-10-31T01:44:51.967922Z",
     "start_time": "2023-10-31T01:44:51.950508Z"
    }
   },
   "outputs": [],
   "source": [
    "input_path = \"/N/project/Cortical_Calcium_Image/data_analysis_Project1_30sec_Oct23th\"\n",
    "output_path = \"/N/project/Cortical_Calcium_Image/data_analysis_Project1_30sec_Oct23th/picked_data\"\n",
    "input_mice = saline\n",
    "config = configparser.ConfigParser()\n",
    "config.read('/N/project/Cortical_Calcium_Image/project1_config.ini')\n",
    "# window\n",
    "start = -6\n",
    "end = 0"
   ]
  },
  {
   "cell_type": "code",
   "execution_count": 70,
   "id": "b1bc7440",
   "metadata": {
    "ExecuteTime": {
     "end_time": "2023-10-31T01:44:51.982334Z",
     "start_time": "2023-10-31T01:44:51.971506Z"
    }
   },
   "outputs": [],
   "source": [
    "if(os.path.exists(output_path) == False):\n",
    "    os.makedirs(output_path)"
   ]
  },
  {
   "cell_type": "markdown",
   "id": "bf960b40",
   "metadata": {},
   "source": [
    "# Pick up data"
   ]
  },
  {
   "cell_type": "code",
   "execution_count": 71,
   "id": "c8375cbc",
   "metadata": {
    "ExecuteTime": {
     "end_time": "2023-10-31T01:44:51.999240Z",
     "start_time": "2023-10-31T01:44:51.987111Z"
    }
   },
   "outputs": [],
   "source": [
    "def summary_file(input_mice,days,sessions):\n",
    "    pre_output_file = pd.DataFrame()\n",
    "    index_list = []\n",
    "    for mouseID in input_mice:\n",
    "        for d in days:\n",
    "            for s in sessions:\n",
    "                file_name = mouseID+'_'+config[mouseID][d]+s+\"_AUC_10pct_30sec.csv\"\n",
    "                mouse_data = pd.read_csv(os.path.join(input_path,mouseID,config[mouseID][d],s,file_name),index_col = '30sec')# index_col = binName\n",
    "                column_name = mouseID\n",
    "                pre_output_file[column_name]=mouse_data['ngtv neuron to be analyzed']/mouse_data['total neuron']\n",
    "                # pre_output_file[column_name]=mouse_data['positive mean']\n",
    "    for i in range(start, end+1):\n",
    "        index_list.append('ALP_positive_W'+str(i))\n",
    "    output_file = pre_output_file.loc[index_list,:]\n",
    "    output_file.to_csv(os.path.join(output_path,'summaryfile.csv'))"
   ]
  },
  {
   "cell_type": "code",
   "execution_count": 72,
   "id": "c33b9d68",
   "metadata": {
    "ExecuteTime": {
     "end_time": "2023-10-31T01:44:53.458203Z",
     "start_time": "2023-10-31T01:44:52.002747Z"
    }
   },
   "outputs": [],
   "source": [
    "summary_file(saline,['D1','D7'],['S1','S4'])"
   ]
  },
  {
   "cell_type": "code",
   "execution_count": null,
   "id": "2dedde02",
   "metadata": {},
   "outputs": [],
   "source": []
  }
 ],
 "metadata": {
  "kernelspec": {
   "display_name": "Python 3 (ipykernel)",
   "language": "python",
   "name": "python3"
  },
  "language_info": {
   "codemirror_mode": {
    "name": "ipython",
    "version": 3
   },
   "file_extension": ".py",
   "mimetype": "text/x-python",
   "name": "python",
   "nbconvert_exporter": "python",
   "pygments_lexer": "ipython3",
   "version": "3.8.13"
  },
  "toc": {
   "base_numbering": 1,
   "nav_menu": {},
   "number_sections": true,
   "sideBar": true,
   "skip_h1_title": false,
   "title_cell": "Table of Contents",
   "title_sidebar": "Contents",
   "toc_cell": false,
   "toc_position": {},
   "toc_section_display": true,
   "toc_window_display": false
  }
 },
 "nbformat": 4,
 "nbformat_minor": 5
}
