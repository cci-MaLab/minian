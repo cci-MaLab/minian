{
 "cells": [
  {
   "cell_type": "markdown",
   "metadata": {},
   "source": [
    "### Frame Fixing\n",
    "Run this notebook if you notice anomalous frames in your videos. First make sure that your videos has been saved to a varr then run this notebook to start the PyQT framework to fix it."
   ]
  },
  {
   "cell_type": "code",
   "execution_count": 1,
   "metadata": {},
   "outputs": [],
   "source": [
    "from minian.utilities import (\n",
    "    open_minian,\n",
    "    save_minian,\n",
    ")\n",
    "from minian.pyqt_window import VideoWindow\n",
    "from PyQt5.QtWidgets import QApplication\n",
    "from PyQt5.QtCore import QCoreApplication\n",
    "import sys\n",
    "# Specify the intermediary path to varr\n",
    "intpath = \"./minian_intermediate\"\n",
    "varr = open_minian(intpath).varr"
   ]
  },
  {
   "cell_type": "code",
   "execution_count": 2,
   "metadata": {},
   "outputs": [
    {
     "name": "stdout",
     "output_type": "stream",
     "text": [
      "computing summary\n",
      "computing summary\n",
      "computing summary\n"
     ]
    },
    {
     "data": {
      "text/plain": [
       "0"
      ]
     },
     "execution_count": 2,
     "metadata": {},
     "output_type": "execute_result"
    }
   ],
   "source": [
    "app = QCoreApplication.instance()\n",
    "if app is None:\n",
    "    app = QApplication(sys.argv)\n",
    "player = VideoWindow(varr, intpath, summary=['mean', 'residual'])\n",
    "player.resize(1500, 745)\n",
    "player.show()\n",
    "app.exec_()"
   ]
  }
 ],
 "metadata": {
  "kernelspec": {
   "display_name": "minian_updated",
   "language": "python",
   "name": "python3"
  },
  "language_info": {
   "codemirror_mode": {
    "name": "ipython",
    "version": 3
   },
   "file_extension": ".py",
   "mimetype": "text/x-python",
   "name": "python",
   "nbconvert_exporter": "python",
   "pygments_lexer": "ipython3",
   "version": "3.8.15"
  }
 },
 "nbformat": 4,
 "nbformat_minor": 2
}
