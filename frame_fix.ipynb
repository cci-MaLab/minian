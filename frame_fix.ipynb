{
 "cells": [
  {
   "cell_type": "markdown",
   "metadata": {},
   "source": [
    "### Frame Fixing\n",
    "Run this notebook if you notice anomalous frames in your videos. First make sure that your videos has been saved to a varr then run this notebook to start the PyQT framework to fix it."
   ]
  },
  {
   "cell_type": "code",
   "execution_count": 1,
   "metadata": {},
   "outputs": [],
   "source": [
    "from minian.utilities import (\n",
    "    open_minian,\n",
    "    save_minian,\n",
    ")\n",
    "from minian.pyqt_window import VideoWindow\n",
    "from PyQt5.QtWidgets import QApplication\n",
    "from PyQt5.QtCore import QCoreApplication\n",
    "import sys\n",
    "# Specify the intermediary path to varr\n",
    "intpath = \"./minian_intermediate\"\n",
    "varr = open_minian(intpath).varr"
   ]
  },
  {
   "cell_type": "code",
   "execution_count": 2,
   "metadata": {},
   "outputs": [
    {
     "name": "stdout",
     "output_type": "stream",
     "text": [
      "computing summary\n"
     ]
    },
    {
     "ename": "AttributeError",
     "evalue": "'QLineEdit' object has no attribute 'getText'",
     "output_type": "error",
     "traceback": [
      "\u001b[1;31m---------------------------------------------------------------------------\u001b[0m",
      "\u001b[1;31mAttributeError\u001b[0m                            Traceback (most recent call last)",
      "File \u001b[1;32mc:\\Users\\Michal Lange\\Documents\\Minian Testing\\minian\\minian\\pyqt_window.py:227\u001b[0m, in \u001b[0;36mVideoWindow.interpolate\u001b[1;34m(self)\u001b[0m\n\u001b[0;32m    226\u001b[0m \u001b[39mdef\u001b[39;00m \u001b[39minterpolate\u001b[39m(\u001b[39mself\u001b[39m):\n\u001b[1;32m--> 227\u001b[0m     start \u001b[39m=\u001b[39m \u001b[39mint\u001b[39m(\u001b[39mself\u001b[39m\u001b[39m.\u001b[39mstartbox_fix\u001b[39m.\u001b[39mgetText()) \u001b[39mif\u001b[39;00m \u001b[39mself\u001b[39;49m\u001b[39m.\u001b[39;49mstartbox_fix\u001b[39m.\u001b[39;49mgetText() \u001b[39melse\u001b[39;00m \u001b[39m-\u001b[39m\u001b[39m1\u001b[39m\n\u001b[0;32m    228\u001b[0m     end \u001b[39m=\u001b[39m \u001b[39mint\u001b[39m(\u001b[39mself\u001b[39m\u001b[39m.\u001b[39mendbox_fix\u001b[39m.\u001b[39mgetText()) \u001b[39mif\u001b[39;00m \u001b[39mself\u001b[39m\u001b[39m.\u001b[39mendbox_fix\u001b[39m.\u001b[39mgetText() \u001b[39melse\u001b[39;00m \u001b[39m-\u001b[39m\u001b[39m1\u001b[39m\n\u001b[0;32m    229\u001b[0m     \u001b[39mif\u001b[39;00m start \u001b[39m>\u001b[39m\u001b[39m=\u001b[39m \u001b[39m0\u001b[39m \u001b[39mand\u001b[39;00m end \u001b[39m>\u001b[39m\u001b[39m=\u001b[39m \u001b[39m0\u001b[39m \u001b[39mand\u001b[39;00m start \u001b[39m<\u001b[39m end:\n",
      "\u001b[1;31mAttributeError\u001b[0m: 'QLineEdit' object has no attribute 'getText'"
     ]
    },
    {
     "data": {
      "text/plain": [
       "0"
      ]
     },
     "execution_count": 2,
     "metadata": {},
     "output_type": "execute_result"
    }
   ],
   "source": [
    "app = QCoreApplication.instance()\n",
    "if app is None:\n",
    "    app = QApplication(sys.argv)\n",
    "player = VideoWindow(varr, intpath, summary=['mean', 'residual'])\n",
    "player.resize(1500, 745)\n",
    "player.show()\n",
    "app.exec_()"
   ]
  }
 ],
 "metadata": {
  "kernelspec": {
   "display_name": "minian_updated",
   "language": "python",
   "name": "python3"
  },
  "language_info": {
   "codemirror_mode": {
    "name": "ipython",
    "version": 3
   },
   "file_extension": ".py",
   "mimetype": "text/x-python",
   "name": "python",
   "nbconvert_exporter": "python",
   "pygments_lexer": "ipython3",
   "version": "3.8.15"
  }
 },
 "nbformat": 4,
 "nbformat_minor": 2
}
